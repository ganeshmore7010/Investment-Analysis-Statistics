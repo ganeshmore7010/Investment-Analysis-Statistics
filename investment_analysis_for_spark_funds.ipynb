{
 "cells": [
  {
   "cell_type": "code",
   "execution_count": 269,
   "metadata": {},
   "outputs": [],
   "source": [
    "import warnings\n",
    "warnings.filterwarnings('ignore')\n",
    "#import libraries needed for analysis\n",
    "import pandas as pd\n",
    "import numpy as np\n",
    "import chardet\n",
    "import matplotlib.pyplot as plt\n",
    "import seaborn as sns\n",
    "sns.set_style(\"whitegrid\")"
   ]
  },
  {
   "cell_type": "code",
   "execution_count": 270,
   "metadata": {},
   "outputs": [
    {
     "data": {
      "text/plain": [
       "{'encoding': 'utf-8', 'confidence': 0.99, 'language': ''}"
      ]
     },
     "execution_count": 270,
     "metadata": {},
     "output_type": "execute_result"
    }
   ],
   "source": [
    "#Detect current encoding type of companies.csv by reading chunk of data and find confidence for encoding type\n",
    "with open(\"companies.csv\", 'rb') as rawdata:\n",
    "    encoding = chardet.detect(rawdata.read(50000))\n",
    "    \n",
    "encoding"
   ]
  },
  {
   "cell_type": "code",
   "execution_count": 271,
   "metadata": {},
   "outputs": [
    {
     "data": {
      "text/plain": [
       "{'encoding': 'ISO-8859-1', 'confidence': 0.73, 'language': ''}"
      ]
     },
     "execution_count": 271,
     "metadata": {},
     "output_type": "execute_result"
    }
   ],
   "source": [
    "#Detect current encoding type of rounds2.csv by reading chunk of data and find confidence for encoding type\n",
    "with open(\"rounds2.csv\", 'rb') as rawdata:\n",
    "    encoding = chardet.detect(rawdata.read(50000))\n",
    "        \n",
    "encoding"
   ]
  },
  {
   "cell_type": "markdown",
   "metadata": {},
   "source": [
    "# Checkpoint 1: Data Cleaning / Data Correction"
   ]
  },
  {
   "cell_type": "code",
   "execution_count": 272,
   "metadata": {},
   "outputs": [],
   "source": [
    "#Read companies.csv files into dataframes using ISO-8859-1 as current utf-8 encoding is not supported.\n",
    "companies_csv = pd.read_csv(\"companies.csv\", encoding = \"ISO-8859-1\")"
   ]
  },
  {
   "cell_type": "code",
   "execution_count": 273,
   "metadata": {},
   "outputs": [
    {
     "data": {
      "text/html": [
       "<div>\n",
       "<style scoped>\n",
       "    .dataframe tbody tr th:only-of-type {\n",
       "        vertical-align: middle;\n",
       "    }\n",
       "\n",
       "    .dataframe tbody tr th {\n",
       "        vertical-align: top;\n",
       "    }\n",
       "\n",
       "    .dataframe thead th {\n",
       "        text-align: right;\n",
       "    }\n",
       "</style>\n",
       "<table border=\"1\" class=\"dataframe\">\n",
       "  <thead>\n",
       "    <tr style=\"text-align: right;\">\n",
       "      <th></th>\n",
       "      <th>permalink</th>\n",
       "      <th>name</th>\n",
       "      <th>homepage_url</th>\n",
       "      <th>category_list</th>\n",
       "      <th>status</th>\n",
       "      <th>country_code</th>\n",
       "      <th>state_code</th>\n",
       "      <th>region</th>\n",
       "      <th>city</th>\n",
       "      <th>founded_at</th>\n",
       "    </tr>\n",
       "  </thead>\n",
       "  <tbody>\n",
       "    <tr>\n",
       "      <th>0</th>\n",
       "      <td>/Organization/-Fame</td>\n",
       "      <td>#fame</td>\n",
       "      <td>http://livfame.com</td>\n",
       "      <td>Media</td>\n",
       "      <td>operating</td>\n",
       "      <td>IND</td>\n",
       "      <td>16</td>\n",
       "      <td>Mumbai</td>\n",
       "      <td>Mumbai</td>\n",
       "      <td>NaN</td>\n",
       "    </tr>\n",
       "    <tr>\n",
       "      <th>1</th>\n",
       "      <td>/Organization/-Qounter</td>\n",
       "      <td>:Qounter</td>\n",
       "      <td>http://www.qounter.com</td>\n",
       "      <td>Application Platforms|Real Time|Social Network...</td>\n",
       "      <td>operating</td>\n",
       "      <td>USA</td>\n",
       "      <td>DE</td>\n",
       "      <td>DE - Other</td>\n",
       "      <td>Delaware City</td>\n",
       "      <td>04-09-2014</td>\n",
       "    </tr>\n",
       "    <tr>\n",
       "      <th>2</th>\n",
       "      <td>/Organization/-The-One-Of-Them-Inc-</td>\n",
       "      <td>(THE) ONE of THEM,Inc.</td>\n",
       "      <td>http://oneofthem.jp</td>\n",
       "      <td>Apps|Games|Mobile</td>\n",
       "      <td>operating</td>\n",
       "      <td>NaN</td>\n",
       "      <td>NaN</td>\n",
       "      <td>NaN</td>\n",
       "      <td>NaN</td>\n",
       "      <td>NaN</td>\n",
       "    </tr>\n",
       "    <tr>\n",
       "      <th>3</th>\n",
       "      <td>/Organization/0-6-Com</td>\n",
       "      <td>0-6.com</td>\n",
       "      <td>http://www.0-6.com</td>\n",
       "      <td>Curated Web</td>\n",
       "      <td>operating</td>\n",
       "      <td>CHN</td>\n",
       "      <td>22</td>\n",
       "      <td>Beijing</td>\n",
       "      <td>Beijing</td>\n",
       "      <td>01-01-2007</td>\n",
       "    </tr>\n",
       "    <tr>\n",
       "      <th>4</th>\n",
       "      <td>/Organization/004-Technologies</td>\n",
       "      <td>004 Technologies</td>\n",
       "      <td>http://004gmbh.de/en/004-interact</td>\n",
       "      <td>Software</td>\n",
       "      <td>operating</td>\n",
       "      <td>USA</td>\n",
       "      <td>IL</td>\n",
       "      <td>Springfield, Illinois</td>\n",
       "      <td>Champaign</td>\n",
       "      <td>01-01-2010</td>\n",
       "    </tr>\n",
       "  </tbody>\n",
       "</table>\n",
       "</div>"
      ],
      "text/plain": [
       "                             permalink                    name  \\\n",
       "0                  /Organization/-Fame                   #fame   \n",
       "1               /Organization/-Qounter                :Qounter   \n",
       "2  /Organization/-The-One-Of-Them-Inc-  (THE) ONE of THEM,Inc.   \n",
       "3                /Organization/0-6-Com                 0-6.com   \n",
       "4       /Organization/004-Technologies        004 Technologies   \n",
       "\n",
       "                        homepage_url  \\\n",
       "0                 http://livfame.com   \n",
       "1             http://www.qounter.com   \n",
       "2                http://oneofthem.jp   \n",
       "3                 http://www.0-6.com   \n",
       "4  http://004gmbh.de/en/004-interact   \n",
       "\n",
       "                                       category_list     status country_code  \\\n",
       "0                                              Media  operating          IND   \n",
       "1  Application Platforms|Real Time|Social Network...  operating          USA   \n",
       "2                                  Apps|Games|Mobile  operating          NaN   \n",
       "3                                        Curated Web  operating          CHN   \n",
       "4                                           Software  operating          USA   \n",
       "\n",
       "  state_code                 region           city  founded_at  \n",
       "0         16                 Mumbai         Mumbai         NaN  \n",
       "1         DE             DE - Other  Delaware City  04-09-2014  \n",
       "2        NaN                    NaN            NaN         NaN  \n",
       "3         22                Beijing        Beijing  01-01-2007  \n",
       "4         IL  Springfield, Illinois      Champaign  01-01-2010  "
      ]
     },
     "execution_count": 273,
     "metadata": {},
     "output_type": "execute_result"
    }
   ],
   "source": [
    "#Print top 10 rows of CSV\n",
    "companies_csv.head(5)"
   ]
  },
  {
   "cell_type": "code",
   "execution_count": 274,
   "metadata": {},
   "outputs": [
    {
     "name": "stdout",
     "output_type": "stream",
     "text": [
      "<class 'pandas.core.frame.DataFrame'>\n",
      "RangeIndex: 66368 entries, 0 to 66367\n",
      "Data columns (total 10 columns):\n",
      " #   Column         Non-Null Count  Dtype \n",
      "---  ------         --------------  ----- \n",
      " 0   permalink      66368 non-null  object\n",
      " 1   name           66367 non-null  object\n",
      " 2   homepage_url   61310 non-null  object\n",
      " 3   category_list  63220 non-null  object\n",
      " 4   status         66368 non-null  object\n",
      " 5   country_code   59410 non-null  object\n",
      " 6   state_code     57821 non-null  object\n",
      " 7   region         58338 non-null  object\n",
      " 8   city           58340 non-null  object\n",
      " 9   founded_at     51147 non-null  object\n",
      "dtypes: object(10)\n",
      "memory usage: 5.1+ MB\n"
     ]
    }
   ],
   "source": [
    "#Print Metadata of compony.csv file to know csv and its column structure \n",
    "companies_csv.info(10)"
   ]
  },
  {
   "cell_type": "code",
   "execution_count": 275,
   "metadata": {},
   "outputs": [],
   "source": [
    "#Read rounds2.csv files into dataframes using ISO-8859-1 as current utf-8 encoding is not supported.\n",
    "rounds_csv = pd.read_csv(\"rounds2.csv\", encoding = \"ISO-8859-1\")"
   ]
  },
  {
   "cell_type": "code",
   "execution_count": 276,
   "metadata": {},
   "outputs": [
    {
     "data": {
      "text/html": [
       "<div>\n",
       "<style scoped>\n",
       "    .dataframe tbody tr th:only-of-type {\n",
       "        vertical-align: middle;\n",
       "    }\n",
       "\n",
       "    .dataframe tbody tr th {\n",
       "        vertical-align: top;\n",
       "    }\n",
       "\n",
       "    .dataframe thead th {\n",
       "        text-align: right;\n",
       "    }\n",
       "</style>\n",
       "<table border=\"1\" class=\"dataframe\">\n",
       "  <thead>\n",
       "    <tr style=\"text-align: right;\">\n",
       "      <th></th>\n",
       "      <th>company_permalink</th>\n",
       "      <th>funding_round_permalink</th>\n",
       "      <th>funding_round_type</th>\n",
       "      <th>funding_round_code</th>\n",
       "      <th>funded_at</th>\n",
       "      <th>raised_amount_usd</th>\n",
       "    </tr>\n",
       "  </thead>\n",
       "  <tbody>\n",
       "    <tr>\n",
       "      <th>0</th>\n",
       "      <td>/organization/-fame</td>\n",
       "      <td>/funding-round/9a01d05418af9f794eebff7ace91f638</td>\n",
       "      <td>venture</td>\n",
       "      <td>B</td>\n",
       "      <td>05-01-2015</td>\n",
       "      <td>10000000.0</td>\n",
       "    </tr>\n",
       "    <tr>\n",
       "      <th>1</th>\n",
       "      <td>/ORGANIZATION/-QOUNTER</td>\n",
       "      <td>/funding-round/22dacff496eb7acb2b901dec1dfe5633</td>\n",
       "      <td>venture</td>\n",
       "      <td>A</td>\n",
       "      <td>14-10-2014</td>\n",
       "      <td>NaN</td>\n",
       "    </tr>\n",
       "    <tr>\n",
       "      <th>2</th>\n",
       "      <td>/organization/-qounter</td>\n",
       "      <td>/funding-round/b44fbb94153f6cdef13083530bb48030</td>\n",
       "      <td>seed</td>\n",
       "      <td>NaN</td>\n",
       "      <td>01-03-2014</td>\n",
       "      <td>700000.0</td>\n",
       "    </tr>\n",
       "    <tr>\n",
       "      <th>3</th>\n",
       "      <td>/ORGANIZATION/-THE-ONE-OF-THEM-INC-</td>\n",
       "      <td>/funding-round/650b8f704416801069bb178a1418776b</td>\n",
       "      <td>venture</td>\n",
       "      <td>B</td>\n",
       "      <td>30-01-2014</td>\n",
       "      <td>3406878.0</td>\n",
       "    </tr>\n",
       "    <tr>\n",
       "      <th>4</th>\n",
       "      <td>/organization/0-6-com</td>\n",
       "      <td>/funding-round/5727accaeaa57461bd22a9bdd945382d</td>\n",
       "      <td>venture</td>\n",
       "      <td>A</td>\n",
       "      <td>19-03-2008</td>\n",
       "      <td>2000000.0</td>\n",
       "    </tr>\n",
       "  </tbody>\n",
       "</table>\n",
       "</div>"
      ],
      "text/plain": [
       "                     company_permalink  \\\n",
       "0                  /organization/-fame   \n",
       "1               /ORGANIZATION/-QOUNTER   \n",
       "2               /organization/-qounter   \n",
       "3  /ORGANIZATION/-THE-ONE-OF-THEM-INC-   \n",
       "4                /organization/0-6-com   \n",
       "\n",
       "                           funding_round_permalink funding_round_type  \\\n",
       "0  /funding-round/9a01d05418af9f794eebff7ace91f638            venture   \n",
       "1  /funding-round/22dacff496eb7acb2b901dec1dfe5633            venture   \n",
       "2  /funding-round/b44fbb94153f6cdef13083530bb48030               seed   \n",
       "3  /funding-round/650b8f704416801069bb178a1418776b            venture   \n",
       "4  /funding-round/5727accaeaa57461bd22a9bdd945382d            venture   \n",
       "\n",
       "  funding_round_code   funded_at  raised_amount_usd  \n",
       "0                  B  05-01-2015         10000000.0  \n",
       "1                  A  14-10-2014                NaN  \n",
       "2                NaN  01-03-2014           700000.0  \n",
       "3                  B  30-01-2014          3406878.0  \n",
       "4                  A  19-03-2008          2000000.0  "
      ]
     },
     "execution_count": 276,
     "metadata": {},
     "output_type": "execute_result"
    }
   ],
   "source": [
    "#Print top 10 rows of CSV\n",
    "rounds_csv.head(5)"
   ]
  },
  {
   "cell_type": "code",
   "execution_count": 277,
   "metadata": {},
   "outputs": [
    {
     "name": "stdout",
     "output_type": "stream",
     "text": [
      "<class 'pandas.core.frame.DataFrame'>\n",
      "RangeIndex: 114949 entries, 0 to 114948\n",
      "Data columns (total 6 columns):\n",
      " #   Column                   Non-Null Count   Dtype  \n",
      "---  ------                   --------------   -----  \n",
      " 0   company_permalink        114949 non-null  object \n",
      " 1   funding_round_permalink  114949 non-null  object \n",
      " 2   funding_round_type       114949 non-null  object \n",
      " 3   funding_round_code       31140 non-null   object \n",
      " 4   funded_at                114949 non-null  object \n",
      " 5   raised_amount_usd        94959 non-null   float64\n",
      "dtypes: float64(1), object(5)\n",
      "memory usage: 5.3+ MB\n"
     ]
    }
   ],
   "source": [
    "#Print Metadata of compony.csv file to know csv and its column structure \n",
    "rounds_csv.info()"
   ]
  },
  {
   "cell_type": "code",
   "execution_count": 278,
   "metadata": {},
   "outputs": [
    {
     "data": {
      "text/plain": [
       "array(['/Organization/-Fame', '/Organization/-Qounter',\n",
       "       '/Organization/-The-One-Of-Them-Inc-', ...,\n",
       "       '/Organization/Ã\\x81Eron', '/Organization/Ã\\x94Asys-2',\n",
       "       '/Organization/Ä°Novatiff-Reklam-Ve-Tanä±Tä±M-Hizmetleri-Tic'],\n",
       "      dtype=object)"
      ]
     },
     "execution_count": 278,
     "metadata": {},
     "output_type": "execute_result"
    }
   ],
   "source": [
    "#Create a uniue data from compony.csv file\n",
    "companies_csv.permalink.unique()"
   ]
  },
  {
   "cell_type": "code",
   "execution_count": 279,
   "metadata": {},
   "outputs": [],
   "source": [
    "# we can see the junk charatecters above in the unique data, so get rid of those and lower case the data\n",
    "companies_csv.permalink = companies.permalink.str.encode('ISO-8859-1').str.decode('ascii', 'ignore')\n",
    "companies_csv.permalink = companies.permalink.str.lower()"
   ]
  },
  {
   "cell_type": "code",
   "execution_count": 280,
   "metadata": {},
   "outputs": [
    {
     "data": {
      "text/plain": [
       "array(['/organization/-fame', '/organization/-qounter',\n",
       "       '/organization/-the-one-of-them-inc-', ...,\n",
       "       '/organization/ã\\x81eron', '/organization/ã\\x94asys-2',\n",
       "       '/organization/ä°novatiff-reklam-ve-tanä±tä±m-hizmetleri-tic'],\n",
       "      dtype=object)"
      ]
     },
     "execution_count": 280,
     "metadata": {},
     "output_type": "execute_result"
    }
   ],
   "source": [
    "#check again the unique values\n",
    "companies_csv.permalink.unique()"
   ]
  },
  {
   "cell_type": "code",
   "execution_count": 281,
   "metadata": {},
   "outputs": [
    {
     "name": "stdout",
     "output_type": "stream",
     "text": [
      "66368\n"
     ]
    },
    {
     "data": {
      "text/plain": [
       "count                                   66368\n",
       "unique                                  66368\n",
       "top       /organization/ecosmart-technologies\n",
       "freq                                        1\n",
       "Name: permalink, dtype: object"
      ]
     },
     "execution_count": 281,
     "metadata": {},
     "output_type": "execute_result"
    }
   ],
   "source": [
    "# How many unique companies are present in companies?\n",
    "companies['permalink'] = companies['permalink'].str.lower()\n",
    "print(len(companies['permalink'].unique()))\n",
    "\n",
    "#Reconfirming by descibe function\n",
    "companies['permalink'].str.lower().describe()"
   ]
  },
  {
   "cell_type": "code",
   "execution_count": 282,
   "metadata": {},
   "outputs": [
    {
     "data": {
      "text/plain": [
       "array(['/organization/-fame', '/ORGANIZATION/-QOUNTER',\n",
       "       '/organization/-qounter', ..., '/organization/ã\\x81eron',\n",
       "       '/ORGANIZATION/Ã\\x94ASYS-2',\n",
       "       '/organization/ä°novatiff-reklam-ve-tanä±tä±m-hizmetleri-tic'],\n",
       "      dtype=object)"
      ]
     },
     "execution_count": 282,
     "metadata": {},
     "output_type": "execute_result"
    }
   ],
   "source": [
    "#look at the unique data\n",
    "rounds_csv.company_permalink.unique()"
   ]
  },
  {
   "cell_type": "code",
   "execution_count": 283,
   "metadata": {},
   "outputs": [],
   "source": [
    "#cleaning the data\n",
    "rounds_csv.company_permalink = rounds_csv.company_permalink.str.encode('ISO-8859-1').str.decode('ascii', 'ignore')\n",
    "rounds_csv.company_permalink = rounds_csv.company_permalink.str.lower()"
   ]
  },
  {
   "cell_type": "code",
   "execution_count": 284,
   "metadata": {},
   "outputs": [
    {
     "data": {
      "text/plain": [
       "array(['/organization/-fame', '/organization/-qounter',\n",
       "       '/organization/-the-one-of-them-inc-', ..., '/organization/eron',\n",
       "       '/organization/asys-2',\n",
       "       '/organization/novatiff-reklam-ve-tantm-hizmetleri-tic'],\n",
       "      dtype=object)"
      ]
     },
     "execution_count": 284,
     "metadata": {},
     "output_type": "execute_result"
    }
   ],
   "source": [
    "#look at the unique data again\n",
    "rounds_csv.company_permalink.unique()"
   ]
  },
  {
   "cell_type": "code",
   "execution_count": 285,
   "metadata": {},
   "outputs": [
    {
     "name": "stdout",
     "output_type": "stream",
     "text": [
      "66368\n"
     ]
    },
    {
     "data": {
      "text/plain": [
       "count                       114949\n",
       "unique                       66368\n",
       "top       /organization/solarflare\n",
       "freq                            19\n",
       "Name: company_permalink, dtype: object"
      ]
     },
     "execution_count": 285,
     "metadata": {},
     "output_type": "execute_result"
    }
   ],
   "source": [
    "# How many unique companies are present in round2.csv?\n",
    "rounds_csv.company_permalink = rounds_csv.company_permalink.str.lower()\n",
    "print(len(rounds_csv.company_permalink.unique()))\n",
    "\n",
    "#Reconfirming by descibe function\n",
    "rounds_csv.company_permalink.str.lower().describe()"
   ]
  },
  {
   "cell_type": "code",
   "execution_count": 286,
   "metadata": {},
   "outputs": [],
   "source": [
    "#Are there any companies in the rounds2 file which are not present in companies?\n",
    "round_csv_data= set(rounds_csv.company_permalink.unique())\n",
    "componies_csv_data = set(companies_csv.permalink.unique())"
   ]
  },
  {
   "cell_type": "code",
   "execution_count": 287,
   "metadata": {},
   "outputs": [
    {
     "data": {
      "text/plain": [
       "{'/organization/10north',\n",
       " '/organization/51wofang-',\n",
       " '/organization/adslinked',\n",
       " '/organization/aesthetic-everything-social-network',\n",
       " '/organization/affluent-attach-club-2',\n",
       " '/organization/allgu-outlet',\n",
       " '/organization/asiansbook',\n",
       " '/organization/asys-2',\n",
       " '/organization/atlye-gri',\n",
       " '/organization/axgaz',\n",
       " '/organization/bhner-eh-gmbh',\n",
       " '/organization/boral-bikes-incorporated',\n",
       " '/organization/brasil-oznio',\n",
       " '/organization/bricopriv-com',\n",
       " '/organization/brv',\n",
       " '/organization/canal-da-pea',\n",
       " '/organization/cappt',\n",
       " '/organization/contrato-rpido',\n",
       " '/organization/cop-active-ltd',\n",
       " '/organization/crme-ciseaux',\n",
       " '/organization/desafo-tctico',\n",
       " '/organization/e-cbica',\n",
       " '/organization/energystone-games-',\n",
       " '/organization/eron',\n",
       " '/organization/etool-io',\n",
       " '/organization/freem',\n",
       " '/organization/frquentiel',\n",
       " '/organization/gesto-sade-e-tecnologia-3',\n",
       " '/organization/grfica-en-lnea',\n",
       " '/organization/huizuche-com-',\n",
       " '/organization/ignia-bienes-races',\n",
       " '/organization/ikignde-com',\n",
       " '/organization/inveno-',\n",
       " '/organization/iproof---the-foundation-for-the-internet-of-things',\n",
       " '/organization/its-all-about-me',\n",
       " '/organization/jean-ptz-produkte',\n",
       " '/organization/jiwu-',\n",
       " '/organization/kk',\n",
       " '/organization/knownact',\n",
       " '/organization/lagou-com-',\n",
       " '/organization/lawpd',\n",
       " '/organization/magnet-tech-',\n",
       " '/organization/mdica-santa-carmen-2',\n",
       " '/organization/mercado-electrnico',\n",
       " '/organization/ming-yazlm',\n",
       " '/organization/monnier-frres',\n",
       " '/organization/novatiff-reklam-ve-tantm-hizmetleri-tic',\n",
       " '/organization/patrofn',\n",
       " '/organization/prodti-cz',\n",
       " '/organization/przewietl-pl',\n",
       " '/organization/salo-vip',\n",
       " '/organization/satlite-distribuidora-de-petrleo',\n",
       " '/organization/skar-is',\n",
       " '/organization/slfar-studios',\n",
       " '/organization/socit-internationale-de-plantations-d-hvas',\n",
       " '/organization/talentsigned',\n",
       " '/organization/th-gii-di-ng',\n",
       " '/organization/the-vision-lab-',\n",
       " '/organization/tipcat-interactive-',\n",
       " '/organization/to-conejo',\n",
       " '/organization/tximo',\n",
       " '/organization/v-de-txi',\n",
       " '/organization/vacation-bnb',\n",
       " '/organization/vnder-sports-network',\n",
       " '/organization/weiche-tech-',\n",
       " '/organization/whites-holdings',\n",
       " '/organization/whodats-spaces',\n",
       " '/organization/zengame-'}"
      ]
     },
     "execution_count": 287,
     "metadata": {},
     "output_type": "execute_result"
    }
   ],
   "source": [
    "#check the difference between round 2 and companies\n",
    "round_csv_data-componies_csv_data"
   ]
  },
  {
   "cell_type": "markdown",
   "metadata": {},
   "source": [
    "Merge the two data frames so that all variables (columns) in the companies frame are added to the rounds2 data frame."
   ]
  },
  {
   "cell_type": "code",
   "execution_count": 288,
   "metadata": {},
   "outputs": [],
   "source": [
    "main_frame = pd.merge(rounds2, companies, how = 'left', left_on = 'company_permalink', right_on = 'permalink')"
   ]
  },
  {
   "cell_type": "code",
   "execution_count": 289,
   "metadata": {},
   "outputs": [
    {
     "data": {
      "text/plain": [
       "(114949, 16)"
      ]
     },
     "execution_count": 289,
     "metadata": {},
     "output_type": "execute_result"
    }
   ],
   "source": [
    "# Check for the length of the merged data\n",
    "main_frame.shape"
   ]
  },
  {
   "cell_type": "markdown",
   "metadata": {},
   "source": [
    "# Checkpoint 2: Funding Type Analysis"
   ]
  },
  {
   "cell_type": "code",
   "execution_count": 290,
   "metadata": {
    "scrolled": true
   },
   "outputs": [
    {
     "data": {
      "text/plain": [
       "company_permalink          48581\n",
       "funding_round_permalink        0\n",
       "funding_round_type             0\n",
       "funding_round_code         83809\n",
       "funded_at                      0\n",
       "raised_amount_usd          19990\n",
       "permalink                  48581\n",
       "name                       48582\n",
       "homepage_url               53639\n",
       "category_list              51729\n",
       "status                     48581\n",
       "country_code               55539\n",
       "state_code                 57128\n",
       "region                     56611\n",
       "city                       56609\n",
       "founded_at                 63802\n",
       "dtype: int64"
      ]
     },
     "execution_count": 290,
     "metadata": {},
     "output_type": "execute_result"
    }
   ],
   "source": [
    "#Column wise null values check on dataframe\n",
    "main_frame.isnull().sum(axis=0)"
   ]
  },
  {
   "cell_type": "markdown",
   "metadata": {},
   "source": [
    "#### Some columns like permalink found repeated,some of columns not need to analysis hence dropping this columns"
   ]
  },
  {
   "cell_type": "code",
   "execution_count": 291,
   "metadata": {},
   "outputs": [],
   "source": [
    "main_frame = main_frame.drop(['funding_round_code','funded_at','permalink','homepage_url','state_code','region','city','founded_at'],axis=1)"
   ]
  },
  {
   "cell_type": "code",
   "execution_count": 292,
   "metadata": {},
   "outputs": [
    {
     "data": {
      "text/plain": [
       "company_permalink          48581\n",
       "funding_round_permalink        0\n",
       "funding_round_type             0\n",
       "raised_amount_usd          19990\n",
       "name                       48582\n",
       "category_list              51729\n",
       "status                     48581\n",
       "country_code               55539\n",
       "dtype: int64"
      ]
     },
     "execution_count": 292,
     "metadata": {},
     "output_type": "execute_result"
    }
   ],
   "source": [
    "#check again for the null values\n",
    "main_frame.isnull().sum(axis=0)"
   ]
  },
  {
   "cell_type": "code",
   "execution_count": 293,
   "metadata": {},
   "outputs": [
    {
     "data": {
      "text/plain": [
       "operating    53034\n",
       "closed        6238\n",
       "acquired      5549\n",
       "ipo           1547\n",
       "Name: status, dtype: int64"
      ]
     },
     "execution_count": 293,
     "metadata": {},
     "output_type": "execute_result"
    }
   ],
   "source": [
    "# check the values of companies status\n",
    "main_frame.status.value_counts()"
   ]
  },
  {
   "cell_type": "code",
   "execution_count": 294,
   "metadata": {},
   "outputs": [],
   "source": [
    "#drop the companies that are closed i.e. non operational\n",
    "main_frame =main_frame.loc[main_frame.status!='closed']"
   ]
  },
  {
   "cell_type": "code",
   "execution_count": 295,
   "metadata": {},
   "outputs": [
    {
     "data": {
      "text/plain": [
       "(108711, 8)"
      ]
     },
     "execution_count": 295,
     "metadata": {},
     "output_type": "execute_result"
    }
   ],
   "source": [
    "main_frame.shape"
   ]
  },
  {
   "cell_type": "code",
   "execution_count": 296,
   "metadata": {},
   "outputs": [],
   "source": [
    "# drop companies which has no raised amount and country_Code is missing\n",
    "main_frame = main_frame[~(main_frame['raised_amount_usd'].isnull() | main_frame['country_code'].isnull() | main_frame['category_list'].isnull())]"
   ]
  },
  {
   "cell_type": "code",
   "execution_count": 297,
   "metadata": {},
   "outputs": [
    {
     "data": {
      "text/plain": [
       "company_permalink          0\n",
       "funding_round_permalink    0\n",
       "funding_round_type         0\n",
       "raised_amount_usd          0\n",
       "name                       0\n",
       "category_list              0\n",
       "status                     0\n",
       "country_code               0\n",
       "dtype: int64"
      ]
     },
     "execution_count": 297,
     "metadata": {},
     "output_type": "execute_result"
    }
   ],
   "source": [
    "#check again for null values\n",
    "main_frame.isnull().sum(axis=0)"
   ]
  },
  {
   "cell_type": "code",
   "execution_count": 298,
   "metadata": {},
   "outputs": [
    {
     "data": {
      "text/plain": [
       "venture                  23610\n",
       "seed                     10855\n",
       "debt_financing            3178\n",
       "angel                     2215\n",
       "grant                      936\n",
       "private_equity             897\n",
       "undisclosed                752\n",
       "convertible_note           679\n",
       "equity_crowdfunding        600\n",
       "post_ipo_equity            298\n",
       "product_crowdfunding       165\n",
       "post_ipo_debt               67\n",
       "non_equity_assistance       32\n",
       "secondary_market            10\n",
       "Name: funding_round_type, dtype: int64"
      ]
     },
     "execution_count": 298,
     "metadata": {},
     "output_type": "execute_result"
    }
   ],
   "source": [
    "#Funding round types check\n",
    "main_frame.funding_round_type.value_counts()"
   ]
  },
  {
   "cell_type": "code",
   "execution_count": 299,
   "metadata": {},
   "outputs": [],
   "source": [
    "# As Spark Funds wants to choose one of these four investment types for each potential investment they will make.\n",
    "main_frame = main_frame[main_frame['funding_round_type'].isin(['angel','seed','private_equity','venture'])]"
   ]
  },
  {
   "cell_type": "code",
   "execution_count": 300,
   "metadata": {},
   "outputs": [
    {
     "data": {
      "text/plain": [
       "(37577, 8)"
      ]
     },
     "execution_count": 300,
     "metadata": {},
     "output_type": "execute_result"
    }
   ],
   "source": [
    "main_frame.shape"
   ]
  },
  {
   "cell_type": "code",
   "execution_count": 301,
   "metadata": {},
   "outputs": [
    {
     "data": {
      "text/plain": [
       "venture           23610\n",
       "seed              10855\n",
       "angel              2215\n",
       "private_equity      897\n",
       "Name: funding_round_type, dtype: int64"
      ]
     },
     "execution_count": 301,
     "metadata": {},
     "output_type": "execute_result"
    }
   ],
   "source": [
    "#Count the funding_round_type values\n",
    "main_frame.funding_round_type.value_counts()"
   ]
  },
  {
   "cell_type": "code",
   "execution_count": 302,
   "metadata": {},
   "outputs": [
    {
     "data": {
      "image/png": "[encoded data removed]",
      "text/plain": [
       "<Figure size 1440x720 with 1 Axes>"
      ]
     },
     "metadata": {},
     "output_type": "display_data"
    }
   ],
   "source": [
    "# Plot bar chart with default statistic as mean\n",
    "plt.figure(figsize=(12, 6),dpi=120,frameon=True)\n",
    "sns.barplot(x='funding_round_type', y='raised_amount_usd', data=main_frame)\n",
    "plt.axhline(y=5000000, linewidth=2, color = 'k')\n",
    "plt.axhline(y=15000000, linewidth=2, color = 'k')\n",
    "plt.show()"
   ]
  },
  {
   "cell_type": "code",
   "execution_count": 303,
   "metadata": {},
   "outputs": [
    {
     "data": {
      "text/plain": [
       "funding_round_type\n",
       "angel             8.701500e+05\n",
       "private_equity    7.750105e+07\n",
       "seed              7.286085e+05\n",
       "venture           1.220969e+07\n",
       "Name: raised_amount_usd, dtype: float64"
      ]
     },
     "execution_count": 303,
     "metadata": {},
     "output_type": "execute_result"
    }
   ],
   "source": [
    "#The raised amount in USD round it for more clearity\n",
    "round(main_frame.groupby('funding_round_type').raised_amount_usd.mean(), 4)"
   ]
  },
  {
   "cell_type": "code",
   "execution_count": 304,
   "metadata": {},
   "outputs": [
    {
     "data": {
      "text/plain": [
       "funding_round_type\n",
       "angel              0.8702\n",
       "private_equity    77.5011\n",
       "seed               0.7286\n",
       "venture           12.2097\n",
       "Name: raised_amount_usd, dtype: float64"
      ]
     },
     "execution_count": 304,
     "metadata": {},
     "output_type": "execute_result"
    }
   ],
   "source": [
    "#convert this amount into million and then check the same\n",
    "round(main_frame.groupby('funding_round_type').raised_amount_usd.mean()/1000000, 4)"
   ]
  },
  {
   "cell_type": "markdown",
   "metadata": {},
   "source": [
    "# Checkpoint 3: Country Analysis "
   ]
  },
  {
   "cell_type": "code",
   "execution_count": 305,
   "metadata": {},
   "outputs": [],
   "source": [
    "#Since spark Funds wants to invest only between 5 to 15 million USD per investment round, drop other investment type\n",
    "main_frame = main_frame[main_frame['funding_round_type'] == 'venture'] "
   ]
  },
  {
   "cell_type": "code",
   "execution_count": 306,
   "metadata": {},
   "outputs": [
    {
     "data": {
      "text/html": [
       "<div>\n",
       "<style scoped>\n",
       "    .dataframe tbody tr th:only-of-type {\n",
       "        vertical-align: middle;\n",
       "    }\n",
       "\n",
       "    .dataframe tbody tr th {\n",
       "        vertical-align: top;\n",
       "    }\n",
       "\n",
       "    .dataframe thead th {\n",
       "        text-align: right;\n",
       "    }\n",
       "</style>\n",
       "<table border=\"1\" class=\"dataframe\">\n",
       "  <thead>\n",
       "    <tr style=\"text-align: right;\">\n",
       "      <th></th>\n",
       "      <th>company_permalink</th>\n",
       "      <th>funding_round_permalink</th>\n",
       "      <th>funding_round_type</th>\n",
       "      <th>raised_amount_usd</th>\n",
       "      <th>name</th>\n",
       "      <th>category_list</th>\n",
       "      <th>status</th>\n",
       "      <th>country_code</th>\n",
       "    </tr>\n",
       "  </thead>\n",
       "  <tbody>\n",
       "    <tr>\n",
       "      <th>0</th>\n",
       "      <td>/organization/-fame</td>\n",
       "      <td>/funding-round/9a01d05418af9f794eebff7ace91f638</td>\n",
       "      <td>venture</td>\n",
       "      <td>10000000.0</td>\n",
       "      <td>#fame</td>\n",
       "      <td>Media</td>\n",
       "      <td>operating</td>\n",
       "      <td>IND</td>\n",
       "    </tr>\n",
       "    <tr>\n",
       "      <th>3</th>\n",
       "      <td>/organization/0-6-com</td>\n",
       "      <td>/funding-round/650b8f704416801069bb178a1418776b</td>\n",
       "      <td>venture</td>\n",
       "      <td>3406878.0</td>\n",
       "      <td>0-6.com</td>\n",
       "      <td>Curated Web</td>\n",
       "      <td>operating</td>\n",
       "      <td>CHN</td>\n",
       "    </tr>\n",
       "  </tbody>\n",
       "</table>\n",
       "</div>"
      ],
      "text/plain": [
       "       company_permalink                          funding_round_permalink  \\\n",
       "0    /organization/-fame  /funding-round/9a01d05418af9f794eebff7ace91f638   \n",
       "3  /organization/0-6-com  /funding-round/650b8f704416801069bb178a1418776b   \n",
       "\n",
       "  funding_round_type  raised_amount_usd     name category_list     status  \\\n",
       "0            venture         10000000.0    #fame         Media  operating   \n",
       "3            venture          3406878.0  0-6.com   Curated Web  operating   \n",
       "\n",
       "  country_code  \n",
       "0          IND  \n",
       "3          CHN  "
      ]
     },
     "execution_count": 306,
     "metadata": {},
     "output_type": "execute_result"
    }
   ],
   "source": [
    "main_frame.head(2)"
   ]
  },
  {
   "cell_type": "code",
   "execution_count": 307,
   "metadata": {},
   "outputs": [],
   "source": [
    "# get top 9 countries\n",
    "top9 = main_frame.groupby(\"country_code\")['raised_amount_usd'].sum().sort_values(ascending = False)"
   ]
  },
  {
   "cell_type": "code",
   "execution_count": 308,
   "metadata": {},
   "outputs": [],
   "source": [
    "# get top 9 countries\n",
    "top9 = main_frame.groupby(\"country_code\")['raised_amount_usd'].sum().sort_values(ascending = False).reset_index().head(9)"
   ]
  },
  {
   "cell_type": "code",
   "execution_count": 309,
   "metadata": {},
   "outputs": [
    {
     "data": {
      "image/png": "[encoded data removed]",
      "text/plain": [
       "<Figure size 1440x1200 with 1 Axes>"
      ]
     },
     "metadata": {},
     "output_type": "display_data"
    }
   ],
   "source": [
    "plt.figure(figsize = (12,10),dpi=120,frameon=True)\n",
    "plt.title('Investment across various countries')\n",
    "sns.barplot(x='country_code', y=\"raised_amount_usd\", data=top9, estimator=np.sum)\n",
    "plt.xticks(rotation=45)\n",
    "plt.show()"
   ]
  },
  {
   "cell_type": "markdown",
   "metadata": {},
   "source": [
    "# Checkpoint 4: Sector Analysis 1\n"
   ]
  },
  {
   "cell_type": "code",
   "execution_count": 310,
   "metadata": {},
   "outputs": [],
   "source": [
    "# SparksFunds wants to invest in only top three English speaking countries, we will retain only USA, GBR AND IND\n",
    "main_frame = main_frame[(main_frame['country_code'] == 'USA')\n",
    "                            | (main_frame['country_code'] == 'GBR')\n",
    "                            | (main_frame['country_code'] == 'IND')]"
   ]
  },
  {
   "cell_type": "code",
   "execution_count": 311,
   "metadata": {},
   "outputs": [
    {
     "data": {
      "text/plain": [
       "(17132, 8)"
      ]
     },
     "execution_count": 311,
     "metadata": {},
     "output_type": "execute_result"
    }
   ],
   "source": [
    "main_frame.shape"
   ]
  },
  {
   "cell_type": "code",
   "execution_count": 312,
   "metadata": {},
   "outputs": [
    {
     "data": {
      "text/plain": [
       "Biotechnology                                                                                                        1239\n",
       "Software                                                                                                             1229\n",
       "Clean Technology                                                                                                      332\n",
       "Health Care                                                                                                           319\n",
       "Mobile                                                                                                                282\n",
       "                                                                                                                     ... \n",
       "Craft Beer|E-Commerce|Marketplaces|Wine And Spirits                                                                     1\n",
       "Brand Marketing|Business Development|Corporate Wellness                                                                 1\n",
       "Law Enforcement|Legal|Software                                                                                          1\n",
       "Architecture|Collaboration|Construction|E-Commerce|Finance|Home Renovation|Marketplaces|Real Estate|SaaS|Services       1\n",
       "Personalization|Service Providers|Transportation|Wholesale                                                              1\n",
       "Name: category_list, Length: 7750, dtype: int64"
      ]
     },
     "execution_count": 312,
     "metadata": {},
     "output_type": "execute_result"
    }
   ],
   "source": [
    "#observe values in category list\n",
    "main_frame['category_list'].value_counts()"
   ]
  },
  {
   "cell_type": "code",
   "execution_count": 313,
   "metadata": {},
   "outputs": [],
   "source": [
    "    # as per management we can consider the first category which has | as primary category\n",
    "    main_frame['primary_sector'] = main_frame['category_list'].apply(lambda x:x.split(\"|\")[0])"
   ]
  },
  {
   "cell_type": "code",
   "execution_count": 314,
   "metadata": {},
   "outputs": [
    {
     "data": {
      "text/plain": [
       "array(['Media', 'Software', 'Mobile', 'Entertainment', 'Networking',\n",
       "       'Health and Wellness', 'Beauty', 'Batteries', 'Biotechnology',\n",
       "       'Sports', 'Fashion', 'Internet', 'Health Care', 'Fitness',\n",
       "       'Manufacturing', 'E-Commerce', 'News', 'Art',\n",
       "       'Hardware + Software', 'Clean Technology', 'Ad Targeting',\n",
       "       'Landscaping', 'Messaging', 'Interior Design', 'Energy', 'Apps',\n",
       "       'FinTech', 'Consumer Electronics', 'Data Centers',\n",
       "       'Project Management', 'Babies', '3D', '3D Technology',\n",
       "       'Automotive', 'Finance', 'Automated Kiosk', 'Music', 'Web Hosting',\n",
       "       'Developer APIs', 'Flash Storage', 'Creative Industries',\n",
       "       'Machine Learning', 'Crowdfunding', 'Commercial Real Estate',\n",
       "       'Web Design', 'Analytics', 'Games', 'Advertising', 'Office Space',\n",
       "       'Real Estate', 'Information Technology', 'Accounting',\n",
       "       'Browser Extensions', 'Technology', 'Social Media',\n",
       "       'Brand Marketing', 'Home Decor', 'Curated Web', 'Crowdsourcing',\n",
       "       'Digital Entertainment', 'Food Processing', 'E-Commerce Platforms',\n",
       "       'Business Analytics', 'Enterprises', 'Innovation Engineering',\n",
       "       'Travel & Tourism', 'Consulting', 'Pets', 'Android',\n",
       "       'Cloud Computing', 'Search', 'SaaS', 'Medical', 'Collaboration',\n",
       "       'Local', 'Enterprise Software', 'Design', 'Financial Services',\n",
       "       'Big Data', 'Engineering Firms', 'Bitcoin', 'EdTech', 'Coffee',\n",
       "       'Diagnostics', 'Career Management', 'Credit Cards', 'Payments',\n",
       "       'Security', 'Aerospace', 'Nonprofits', 'Homeland Security',\n",
       "       'Colleges', 'Construction', 'Internet Radio Market',\n",
       "       'Public Relations', 'Education', 'Semiconductors',\n",
       "       'Internet Service Providers', 'Content', 'Comparison Shopping',\n",
       "       'Telecommunications', 'Cloud Management', 'CRM', 'Archiving',\n",
       "       'Blogging Platforms', 'Advertising Exchanges',\n",
       "       'Advertising Platforms', 'Marketing Automation',\n",
       "       'Health Diagnostics', 'Computers', 'Digital Media',\n",
       "       'Adventure Travel', 'Advertising Networks', 'Direct Sales',\n",
       "       'Transportation', 'Consumers', 'Cosmetics',\n",
       "       'Electrical Distribution', 'Customer Service', 'Alumni',\n",
       "       'Finance Technology', 'Furniture',\n",
       "       'Health Care Information Technology', 'Domains',\n",
       "       'Bridging Online and Offline', 'Business Development', 'Brewing',\n",
       "       'B2B', 'Gps', 'Agriculture', 'Brokers', 'Tracking',\n",
       "       'Content Creators', 'Assisitive Technology', 'Algorithms', 'Legal',\n",
       "       'Content Syndication', 'Cloud Data Services', 'Broadcasting',\n",
       "       'Public Transportation', '3D Printing', 'Business Productivity',\n",
       "       'Match-Making', 'iPhone', 'Retail', 'Cloud Infrastructure',\n",
       "       'Events', 'Application Platforms', 'Banking', 'Employment',\n",
       "       'Hardware', 'Consumer Internet', 'Business Intelligence',\n",
       "       'Internet of Things', 'Local Search', 'Artificial Intelligence',\n",
       "       'Cloud Security', 'Charter Schools', 'Hospitality', 'Lifestyle',\n",
       "       'Bio-Pharm', 'Video', 'Content Delivery', 'Data Mining',\n",
       "       'Industrial', 'Distribution', 'Specialty Chemicals', 'Carbon',\n",
       "       'Pharmaceuticals', 'Investment Management', 'Consumer Goods',\n",
       "       'Communications Infrastructure', 'Internet Marketing',\n",
       "       'Healthcare Services', 'Leisure', 'Wine And Spirits', 'Cannabis',\n",
       "       'Audio', 'Estimation and Quoting', 'Specialty Foods', 'Kids',\n",
       "       'Logistics', 'Distributors', 'Corporate Training', 'Services',\n",
       "       'Commercial Solar', 'Energy Efficiency', 'Biometrics',\n",
       "       'Mobile Security', 'Big Data Analytics', 'Contact Management',\n",
       "       'Nanotechnology', 'Databases', 'Incubators', 'Angels',\n",
       "       'Non Profit', 'Facebook Applications', 'Email Marketing', 'VoIP',\n",
       "       'Biofuels', 'Gold', 'Ticketing', 'Wireless', 'Electronics',\n",
       "       'Bioinformatics', 'Data Integration', 'Government Innovation',\n",
       "       'Delivery', 'Opinions', 'Cyber Security', 'Business Services',\n",
       "       'Credit', 'Chemicals', 'Online Scheduling', 'Developer Tools',\n",
       "       'App Marketing', 'Corporate IT', 'Clean Energy', 'All Students',\n",
       "       'Aquaculture', 'Service Providers', 'Publishing',\n",
       "       'Environmental Innovation', 'Email', 'Medical Devices', 'CAD',\n",
       "       'Language Learning', 'Marketplaces', 'Politics', 'Architecture',\n",
       "       'Designers', 'Communications Hardware', 'Human Resources',\n",
       "       'Intellectual Asset Management', 'Game', 'Network Security',\n",
       "       'Travel', 'Online Dating', 'SEO', 'Auctions', 'Guides',\n",
       "       'Artists Globally', 'Licensing', 'Real Time', 'Augmented Reality',\n",
       "       'Data Security', 'Home Automation', 'Lead Management',\n",
       "       'Therapeutics', 'Sales Automation', 'Water', 'Document Management',\n",
       "       'Energy Management', 'Maps', 'Information Services',\n",
       "       'Corporate Wellness', 'Enterprise Search', 'Baby Accessories',\n",
       "       'Photography', 'Mobile Commerce', 'Venture Capital', 'Oil & Gas',\n",
       "       'Online Travel', 'Reviews and Recommendations', 'Oil and Gas',\n",
       "       'Personalization', 'Charity', 'Collaborative Consumption',\n",
       "       'Deep Information Technology', 'Social Media Platforms',\n",
       "       'Entrepreneur', 'Career Planning', 'Creative',\n",
       "       'Social Network Media', 'E-Books', 'Employer Benefits Programs',\n",
       "       'Recruiting', 'Small and Medium Businesses', 'Discounts',\n",
       "       'Building Products', 'Billing', 'Customer Support Tools',\n",
       "       'Sales and Marketing', 'All Markets', 'College Recruiting',\n",
       "       'App Stores', 'Bicycles', 'Outsourcing',\n",
       "       'General Public Worldwide', 'Gadget', 'Open Source', 'Reputation',\n",
       "       'Craft Beer', 'Infrastructure', 'Service Industries',\n",
       "       'Life Sciences', 'Coworking', 'Location Based Services',\n",
       "       'Fraud Detection', 'Celebrity', 'Cooking', 'Chat',\n",
       "       'Local Businesses', 'IT Management', 'Fruit', 'Event Management',\n",
       "       'Comics', 'Fantasy Sports', 'Home & Garden', 'Defense', 'Soccer',\n",
       "       'Application Performance Monitoring', 'Law Enforcement',\n",
       "       'Mass Customization', 'Communities', 'Cars', 'Property Management',\n",
       "       'Restaurants', 'Advice', 'Direct Marketing',\n",
       "       'Industrial Automation', 'Optical Communications',\n",
       "       'Productivity Software', 'EDA Tools', 'Insurance',\n",
       "       'College Campuses', 'Clinical Trials', 'Gift Card', 'Hospitals',\n",
       "       'Elder Care', 'Electronic Health Records', 'Active Lifestyle',\n",
       "       'Fleet Management', 'Advanced Materials', 'Market Research',\n",
       "       'Gambling', 'Ediscovery', 'Doctors', 'Diabetes',\n",
       "       'Health Services Industry', 'Identity Management',\n",
       "       'Email Newsletters', 'Startups', 'Mobile Games', 'K-12 Education',\n",
       "       'Religion', 'Film', 'Innovation Management', 'Parenting', 'Hotels',\n",
       "       'Civil Engineers', 'Data Visualization', 'Cloud-Based Music',\n",
       "       'Identity', 'Internet Technology', 'Health and Insurance',\n",
       "       'Alternative Medicine', 'Coupons', 'IaaS', 'Information Security',\n",
       "       'Educational Games', 'Online Gaming', 'Farming',\n",
       "       'Pervasive Computing', 'Natural Language Processing', 'Storage',\n",
       "       'Classifieds', 'Lighting', 'IT and Cybersecurity', 'Incentives',\n",
       "       'Consumer Behavior', 'Development Platforms', 'Content Discovery',\n",
       "       'Enterprise 2.0', 'Assisted Living', 'Call Center Automation',\n",
       "       'Contact Centers', 'Risk Management', 'Governments',\n",
       "       'Financial Exchanges', 'Natural Resources',\n",
       "       'Data Center Infrastructure', 'Gamification', 'Loyalty Programs',\n",
       "       'File Sharing', 'Humanitarian', 'Online Education', 'Fuels',\n",
       "       'Dental', 'Funeral Industry', 'Mobile Payments', 'Online Shopping',\n",
       "       'Consumer Lending', 'Meeting Software', 'Game Mechanics',\n",
       "       'Adaptive Equipment', 'Auto', 'Freemium', 'Peer-to-Peer', 'Drones',\n",
       "       'Logistics Company', 'Dietary Supplements', 'Mobile Devices',\n",
       "       'Textiles', 'Tutoring', 'Public Safety', 'Online Rental',\n",
       "       'Printing', 'Freelancers', 'Supply Chain Management', 'iOS',\n",
       "       'Biomass Power Generation', 'Renewable Energies',\n",
       "       'Online Video Advertising', 'Synchronization', 'Utilities',\n",
       "       'Skill Gaming', 'Business Information Systems', 'BPO Services',\n",
       "       'Photo Editing', 'Fertility', 'Entertainment Industry',\n",
       "       'Social Media Marketing', 'Commodities', 'Mobile Shopping',\n",
       "       'High Schools', 'Specialty Retail', 'Sporting Goods',\n",
       "       'Human Computer Interaction', 'Recycling', 'FreetoPlay Gaming',\n",
       "       'Tourism', 'Sensors', 'Geospatial', 'Registrars', 'Gift Exchange',\n",
       "       'Vending and Concessions', 'Polling', 'RFID', 'Families',\n",
       "       'Outdoors', 'Handmade', 'Point of Sale', 'Limousines',\n",
       "       'Emerging Markets', 'Shipping', 'Biotechnology and Semiconductor',\n",
       "       'New Technologies', 'Mobile Enterprise',\n",
       "       'Private Social Networking', 'Collectibles', 'Portals',\n",
       "       'Groceries', 'Computer Vision', 'Data Center Automation',\n",
       "       'High School Students', 'Internet Infrastructure',\n",
       "       'Waste Management', 'Debt Collecting', 'Indoor Positioning',\n",
       "       'P2P Money Transfer', 'Training', 'Video Conferencing',\n",
       "       'Product Design', 'Graphics', 'Music Services', 'Animal Feed',\n",
       "       'Professional Services', 'Organic', 'Rapidly Expanding',\n",
       "       'Electric Vehicles', 'Jewelry', 'Mobility', 'Web Tools',\n",
       "       'Infrastructure Builders', 'Early-Stage Technology', 'Weddings',\n",
       "       'Digital Rights Management', 'New Product Development',\n",
       "       'Mobile Advertising', 'Disruptive Models', 'Mens Specific',\n",
       "       'Gift Registries', 'Baby Safety', 'Eyewear', 'Local Advertising',\n",
       "       'Privacy', 'Material Science', 'Embedded Hardware and Software',\n",
       "       'Video Streaming', 'Concerts', 'Governance',\n",
       "       'In-Flight Entertainment', 'Organic Food', 'Lifestyle Products',\n",
       "       'Demographies', 'Heavy Industry', 'Retail Technology', 'Trading',\n",
       "       'Robotics', 'Custom Retail', 'Displays',\n",
       "       'Semiconductor Manufacturing Equipment', 'Forums',\n",
       "       'Mobile Analytics', 'Genetic Testing', 'Cable', 'Space Travel',\n",
       "       'Music Education', 'Moneymaking', 'iPad', 'Journalism', 'Lasers',\n",
       "       'Mobile Health', 'Cyber', 'Spas', 'Natural Gas Uses',\n",
       "       'Universities', 'Home Renovation', 'Nutrition', 'Digital Signage',\n",
       "       'Group Buying', 'Charities', 'Local Commerce', 'Presentations',\n",
       "       'Solar', 'Kinect', 'Oil', 'Enterprise Application',\n",
       "       'Mining Technologies', 'Renewable Tech', 'Intelligent Systems',\n",
       "       'Mobile Software Tools', 'M2M', 'Music Venues', 'Television',\n",
       "       'DOD/Military', 'Exercise', 'Field Support Services',\n",
       "       'Independent Music Labels', 'Translation', 'Boating Industry',\n",
       "       'Minerals', 'Social Travel', 'Online Reservations',\n",
       "       'Lifestyle Businesses', 'Console Gaming', 'Cosmetic Surgery',\n",
       "       'Social CRM', 'Green Consumer Goods', 'Film Production',\n",
       "       'Professional Networking', 'PaaS', 'Shopping', 'Personal Health',\n",
       "       'Enterprise Purchasing', 'Mobile Video', 'Musical Instruments',\n",
       "       'Contests', 'Personal Data', 'Lead Generation', 'Gas',\n",
       "       'Procurement', 'EBooks', 'Concentrated Solar Power',\n",
       "       'Social Business', 'Staffing Firms', 'Energy IT', 'Social News',\n",
       "       'Home Owners', 'Indians', 'Video on Demand', 'Veterinary',\n",
       "       'Google Glass', 'DIY', 'Social + Mobile + Local',\n",
       "       'Mechanical Solutions', 'Non-Tech', 'Certification Test',\n",
       "       'Flash Sales', 'Mobile Emergency&Health', 'User Interface',\n",
       "       'Shoes', 'Watch', 'Navigation', 'Social Buying',\n",
       "       'Virtual Workforces', 'Gay & Lesbian', 'User Experience Design',\n",
       "       'Web Development'], dtype=object)"
      ]
     },
     "execution_count": 314,
     "metadata": {},
     "output_type": "execute_result"
    }
   ],
   "source": [
    "main_frame.primary_sector.unique()"
   ]
  },
  {
   "cell_type": "code",
   "execution_count": 315,
   "metadata": {},
   "outputs": [],
   "source": [
    "#read Mapping file\n",
    "mapping = pd.read_csv('mapping.csv')"
   ]
  },
  {
   "cell_type": "code",
   "execution_count": 316,
   "metadata": {},
   "outputs": [
    {
     "data": {
      "text/html": [
       "<div>\n",
       "<style scoped>\n",
       "    .dataframe tbody tr th:only-of-type {\n",
       "        vertical-align: middle;\n",
       "    }\n",
       "\n",
       "    .dataframe tbody tr th {\n",
       "        vertical-align: top;\n",
       "    }\n",
       "\n",
       "    .dataframe thead th {\n",
       "        text-align: right;\n",
       "    }\n",
       "</style>\n",
       "<table border=\"1\" class=\"dataframe\">\n",
       "  <thead>\n",
       "    <tr style=\"text-align: right;\">\n",
       "      <th></th>\n",
       "      <th>category_list</th>\n",
       "      <th>Automotive &amp; Sports</th>\n",
       "      <th>Blanks</th>\n",
       "      <th>Cleantech / Semiconductors</th>\n",
       "      <th>Entertainment</th>\n",
       "      <th>Health</th>\n",
       "      <th>Manufacturing</th>\n",
       "      <th>News, Search and Messaging</th>\n",
       "      <th>Others</th>\n",
       "      <th>Social, Finance, Analytics, Advertising</th>\n",
       "    </tr>\n",
       "  </thead>\n",
       "  <tbody>\n",
       "    <tr>\n",
       "      <th>0</th>\n",
       "      <td>NaN</td>\n",
       "      <td>0</td>\n",
       "      <td>1</td>\n",
       "      <td>0</td>\n",
       "      <td>0</td>\n",
       "      <td>0</td>\n",
       "      <td>0</td>\n",
       "      <td>0</td>\n",
       "      <td>0</td>\n",
       "      <td>0</td>\n",
       "    </tr>\n",
       "    <tr>\n",
       "      <th>1</th>\n",
       "      <td>3D</td>\n",
       "      <td>0</td>\n",
       "      <td>0</td>\n",
       "      <td>0</td>\n",
       "      <td>0</td>\n",
       "      <td>0</td>\n",
       "      <td>1</td>\n",
       "      <td>0</td>\n",
       "      <td>0</td>\n",
       "      <td>0</td>\n",
       "    </tr>\n",
       "    <tr>\n",
       "      <th>2</th>\n",
       "      <td>3D Printing</td>\n",
       "      <td>0</td>\n",
       "      <td>0</td>\n",
       "      <td>0</td>\n",
       "      <td>0</td>\n",
       "      <td>0</td>\n",
       "      <td>1</td>\n",
       "      <td>0</td>\n",
       "      <td>0</td>\n",
       "      <td>0</td>\n",
       "    </tr>\n",
       "    <tr>\n",
       "      <th>3</th>\n",
       "      <td>3D Technology</td>\n",
       "      <td>0</td>\n",
       "      <td>0</td>\n",
       "      <td>0</td>\n",
       "      <td>0</td>\n",
       "      <td>0</td>\n",
       "      <td>1</td>\n",
       "      <td>0</td>\n",
       "      <td>0</td>\n",
       "      <td>0</td>\n",
       "    </tr>\n",
       "    <tr>\n",
       "      <th>4</th>\n",
       "      <td>Accounting</td>\n",
       "      <td>0</td>\n",
       "      <td>0</td>\n",
       "      <td>0</td>\n",
       "      <td>0</td>\n",
       "      <td>0</td>\n",
       "      <td>0</td>\n",
       "      <td>0</td>\n",
       "      <td>0</td>\n",
       "      <td>1</td>\n",
       "    </tr>\n",
       "  </tbody>\n",
       "</table>\n",
       "</div>"
      ],
      "text/plain": [
       "   category_list  Automotive & Sports  Blanks  Cleantech / Semiconductors  \\\n",
       "0            NaN                    0       1                           0   \n",
       "1             3D                    0       0                           0   \n",
       "2    3D Printing                    0       0                           0   \n",
       "3  3D Technology                    0       0                           0   \n",
       "4     Accounting                    0       0                           0   \n",
       "\n",
       "   Entertainment  Health  Manufacturing  News, Search and Messaging  Others  \\\n",
       "0              0       0              0                           0       0   \n",
       "1              0       0              1                           0       0   \n",
       "2              0       0              1                           0       0   \n",
       "3              0       0              1                           0       0   \n",
       "4              0       0              0                           0       0   \n",
       "\n",
       "   Social, Finance, Analytics, Advertising  \n",
       "0                                        0  \n",
       "1                                        0  \n",
       "2                                        0  \n",
       "3                                        0  \n",
       "4                                        1  "
      ]
     },
     "execution_count": 316,
     "metadata": {},
     "output_type": "execute_result"
    }
   ],
   "source": [
    "# no error in reading, look at the data\n",
    "mapping.head()"
   ]
  },
  {
   "cell_type": "code",
   "execution_count": 317,
   "metadata": {},
   "outputs": [
    {
     "name": "stdout",
     "output_type": "stream",
     "text": [
      "['Automotive & Sports', 'Blanks', 'Cleantech / Semiconductors', 'Entertainment', 'Health', 'Manufacturing', 'News, Search and Messaging', 'Others', 'Social, Finance, Analytics, Advertising'] \n",
      "\n",
      "['category_list']\n"
     ]
    }
   ],
   "source": [
    "#since above data is in long format , we have to convert it.\n",
    "value_vars = list(mapping.columns[1:])\n",
    "\n",
    "id_vars = list(np.setdiff1d(mapping.columns, value_vars))\n",
    "\n",
    "print(value_vars, \"\\n\")\n",
    "print(id_vars)"
   ]
  },
  {
   "cell_type": "code",
   "execution_count": 318,
   "metadata": {},
   "outputs": [],
   "source": [
    "# using melt function to convert long data into our desired format\n",
    "mapping_df = pd.melt(mapping, id_vars = id_vars,value_vars = value_vars)"
   ]
  },
  {
   "cell_type": "code",
   "execution_count": 319,
   "metadata": {},
   "outputs": [],
   "source": [
    "# remove rows having value=0\n",
    "mapping_df = mapping_df[mapping_df['value']==1]\n",
    "mapping_df = mapping_df.drop('value', axis=1)"
   ]
  },
  {
   "cell_type": "code",
   "execution_count": 320,
   "metadata": {},
   "outputs": [
    {
     "data": {
      "text/html": [
       "<div>\n",
       "<style scoped>\n",
       "    .dataframe tbody tr th:only-of-type {\n",
       "        vertical-align: middle;\n",
       "    }\n",
       "\n",
       "    .dataframe tbody tr th {\n",
       "        vertical-align: top;\n",
       "    }\n",
       "\n",
       "    .dataframe thead th {\n",
       "        text-align: right;\n",
       "    }\n",
       "</style>\n",
       "<table border=\"1\" class=\"dataframe\">\n",
       "  <thead>\n",
       "    <tr style=\"text-align: right;\">\n",
       "      <th></th>\n",
       "      <th>category_list</th>\n",
       "      <th>variable</th>\n",
       "    </tr>\n",
       "  </thead>\n",
       "  <tbody>\n",
       "    <tr>\n",
       "      <th>8</th>\n",
       "      <td>Adventure Travel</td>\n",
       "      <td>Automotive &amp; Sports</td>\n",
       "    </tr>\n",
       "    <tr>\n",
       "      <th>14</th>\n",
       "      <td>Aerospace</td>\n",
       "      <td>Automotive &amp; Sports</td>\n",
       "    </tr>\n",
       "    <tr>\n",
       "      <th>45</th>\n",
       "      <td>Auto</td>\n",
       "      <td>Automotive &amp; Sports</td>\n",
       "    </tr>\n",
       "    <tr>\n",
       "      <th>46</th>\n",
       "      <td>Automated Kiosk</td>\n",
       "      <td>Automotive &amp; Sports</td>\n",
       "    </tr>\n",
       "    <tr>\n",
       "      <th>47</th>\n",
       "      <td>Automotive</td>\n",
       "      <td>Automotive &amp; Sports</td>\n",
       "    </tr>\n",
       "  </tbody>\n",
       "</table>\n",
       "</div>"
      ],
      "text/plain": [
       "       category_list             variable\n",
       "8   Adventure Travel  Automotive & Sports\n",
       "14         Aerospace  Automotive & Sports\n",
       "45              Auto  Automotive & Sports\n",
       "46   Automated Kiosk  Automotive & Sports\n",
       "47        Automotive  Automotive & Sports"
      ]
     },
     "execution_count": 320,
     "metadata": {},
     "output_type": "execute_result"
    }
   ],
   "source": [
    "mapping_df.head()"
   ]
  },
  {
   "cell_type": "code",
   "execution_count": 321,
   "metadata": {},
   "outputs": [],
   "source": [
    "#change the name of the column\n",
    "mapping_df = mapping_df.rename(columns={'variable': 'main_sector'})"
   ]
  },
  {
   "cell_type": "code",
   "execution_count": 322,
   "metadata": {},
   "outputs": [
    {
     "data": {
      "text/html": [
       "<div>\n",
       "<style scoped>\n",
       "    .dataframe tbody tr th:only-of-type {\n",
       "        vertical-align: middle;\n",
       "    }\n",
       "\n",
       "    .dataframe tbody tr th {\n",
       "        vertical-align: top;\n",
       "    }\n",
       "\n",
       "    .dataframe thead th {\n",
       "        text-align: right;\n",
       "    }\n",
       "</style>\n",
       "<table border=\"1\" class=\"dataframe\">\n",
       "  <thead>\n",
       "    <tr style=\"text-align: right;\">\n",
       "      <th></th>\n",
       "      <th>category_list</th>\n",
       "      <th>main_sector</th>\n",
       "    </tr>\n",
       "  </thead>\n",
       "  <tbody>\n",
       "    <tr>\n",
       "      <th>6121</th>\n",
       "      <td>Social Recruiting</td>\n",
       "      <td>Social, Finance, Analytics, Advertising</td>\n",
       "    </tr>\n",
       "    <tr>\n",
       "      <th>6122</th>\n",
       "      <td>Social Television</td>\n",
       "      <td>Social, Finance, Analytics, Advertising</td>\n",
       "    </tr>\n",
       "    <tr>\n",
       "      <th>6123</th>\n",
       "      <td>Social Travel</td>\n",
       "      <td>Social, Finance, Analytics, Advertising</td>\n",
       "    </tr>\n",
       "    <tr>\n",
       "      <th>6134</th>\n",
       "      <td>Stock Exchanges</td>\n",
       "      <td>Social, Finance, Analytics, Advertising</td>\n",
       "    </tr>\n",
       "    <tr>\n",
       "      <th>6167</th>\n",
       "      <td>Venture Capital</td>\n",
       "      <td>Social, Finance, Analytics, Advertising</td>\n",
       "    </tr>\n",
       "  </tbody>\n",
       "</table>\n",
       "</div>"
      ],
      "text/plain": [
       "          category_list                              main_sector\n",
       "6121  Social Recruiting  Social, Finance, Analytics, Advertising\n",
       "6122  Social Television  Social, Finance, Analytics, Advertising\n",
       "6123      Social Travel  Social, Finance, Analytics, Advertising\n",
       "6134    Stock Exchanges  Social, Finance, Analytics, Advertising\n",
       "6167    Venture Capital  Social, Finance, Analytics, Advertising"
      ]
     },
     "execution_count": 322,
     "metadata": {},
     "output_type": "execute_result"
    }
   ],
   "source": [
    "mapping_df.tail()"
   ]
  },
  {
   "cell_type": "code",
   "execution_count": 323,
   "metadata": {},
   "outputs": [
    {
     "data": {
      "text/html": [
       "<div>\n",
       "<style scoped>\n",
       "    .dataframe tbody tr th:only-of-type {\n",
       "        vertical-align: middle;\n",
       "    }\n",
       "\n",
       "    .dataframe tbody tr th {\n",
       "        vertical-align: top;\n",
       "    }\n",
       "\n",
       "    .dataframe thead th {\n",
       "        text-align: right;\n",
       "    }\n",
       "</style>\n",
       "<table border=\"1\" class=\"dataframe\">\n",
       "  <thead>\n",
       "    <tr style=\"text-align: right;\">\n",
       "      <th></th>\n",
       "      <th>company_permalink</th>\n",
       "      <th>funding_round_permalink</th>\n",
       "      <th>funding_round_type</th>\n",
       "      <th>raised_amount_usd</th>\n",
       "      <th>name</th>\n",
       "      <th>category_list_x</th>\n",
       "      <th>status</th>\n",
       "      <th>country_code</th>\n",
       "      <th>primary_sector</th>\n",
       "      <th>category_list_y</th>\n",
       "      <th>main_sector</th>\n",
       "    </tr>\n",
       "  </thead>\n",
       "  <tbody>\n",
       "    <tr>\n",
       "      <th>0</th>\n",
       "      <td>/organization/-fame</td>\n",
       "      <td>/funding-round/9a01d05418af9f794eebff7ace91f638</td>\n",
       "      <td>venture</td>\n",
       "      <td>10000000.0</td>\n",
       "      <td>#fame</td>\n",
       "      <td>Media</td>\n",
       "      <td>operating</td>\n",
       "      <td>IND</td>\n",
       "      <td>Media</td>\n",
       "      <td>Media</td>\n",
       "      <td>Entertainment</td>\n",
       "    </tr>\n",
       "    <tr>\n",
       "      <th>1</th>\n",
       "      <td>/organization/004-technologies</td>\n",
       "      <td>/funding-round/5727accaeaa57461bd22a9bdd945382d</td>\n",
       "      <td>venture</td>\n",
       "      <td>2000000.0</td>\n",
       "      <td>004 Technologies</td>\n",
       "      <td>Software</td>\n",
       "      <td>operating</td>\n",
       "      <td>USA</td>\n",
       "      <td>Software</td>\n",
       "      <td>Software</td>\n",
       "      <td>Others</td>\n",
       "    </tr>\n",
       "    <tr>\n",
       "      <th>2</th>\n",
       "      <td>/organization/1</td>\n",
       "      <td>/funding-round/954b9499724b946ad8c396a57a5f3b72</td>\n",
       "      <td>venture</td>\n",
       "      <td>719491.0</td>\n",
       "      <td>One Inc.</td>\n",
       "      <td>Mobile</td>\n",
       "      <td>operating</td>\n",
       "      <td>USA</td>\n",
       "      <td>Mobile</td>\n",
       "      <td>Mobile</td>\n",
       "      <td>News, Search and Messaging</td>\n",
       "    </tr>\n",
       "    <tr>\n",
       "      <th>3</th>\n",
       "      <td>/organization/1-4-all</td>\n",
       "      <td>/funding-round/3bb2ee4a2d89251a10aaa735b1180e44</td>\n",
       "      <td>venture</td>\n",
       "      <td>20000000.0</td>\n",
       "      <td>1-4 All</td>\n",
       "      <td>Entertainment|Games|Software</td>\n",
       "      <td>operating</td>\n",
       "      <td>USA</td>\n",
       "      <td>Entertainment</td>\n",
       "      <td>Entertainment</td>\n",
       "      <td>Entertainment</td>\n",
       "    </tr>\n",
       "    <tr>\n",
       "      <th>4</th>\n",
       "      <td>/organization/1-618-technology</td>\n",
       "      <td>/funding-round/ae2a174c06517c2394aed45006322a7e</td>\n",
       "      <td>venture</td>\n",
       "      <td>1700000.0</td>\n",
       "      <td>1.618 Technology</td>\n",
       "      <td>Networking|Real Estate|Web Hosting</td>\n",
       "      <td>operating</td>\n",
       "      <td>USA</td>\n",
       "      <td>Networking</td>\n",
       "      <td>Networking</td>\n",
       "      <td>Others</td>\n",
       "    </tr>\n",
       "  </tbody>\n",
       "</table>\n",
       "</div>"
      ],
      "text/plain": [
       "                company_permalink  \\\n",
       "0             /organization/-fame   \n",
       "1  /organization/004-technologies   \n",
       "2                 /organization/1   \n",
       "3           /organization/1-4-all   \n",
       "4  /organization/1-618-technology   \n",
       "\n",
       "                           funding_round_permalink funding_round_type  \\\n",
       "0  /funding-round/9a01d05418af9f794eebff7ace91f638            venture   \n",
       "1  /funding-round/5727accaeaa57461bd22a9bdd945382d            venture   \n",
       "2  /funding-round/954b9499724b946ad8c396a57a5f3b72            venture   \n",
       "3  /funding-round/3bb2ee4a2d89251a10aaa735b1180e44            venture   \n",
       "4  /funding-round/ae2a174c06517c2394aed45006322a7e            venture   \n",
       "\n",
       "   raised_amount_usd              name                     category_list_x  \\\n",
       "0         10000000.0             #fame                               Media   \n",
       "1          2000000.0  004 Technologies                            Software   \n",
       "2           719491.0          One Inc.                              Mobile   \n",
       "3         20000000.0           1-4 All        Entertainment|Games|Software   \n",
       "4          1700000.0  1.618 Technology  Networking|Real Estate|Web Hosting   \n",
       "\n",
       "      status country_code primary_sector category_list_y  \\\n",
       "0  operating          IND          Media           Media   \n",
       "1  operating          USA       Software        Software   \n",
       "2  operating          USA         Mobile          Mobile   \n",
       "3  operating          USA  Entertainment   Entertainment   \n",
       "4  operating          USA     Networking      Networking   \n",
       "\n",
       "                  main_sector  \n",
       "0               Entertainment  \n",
       "1                      Others  \n",
       "2  News, Search and Messaging  \n",
       "3               Entertainment  \n",
       "4                      Others  "
      ]
     },
     "execution_count": 323,
     "metadata": {},
     "output_type": "execute_result"
    }
   ],
   "source": [
    "#merge mapping data to master frame\n",
    "main_frame = main_frame.merge(mapping_df, how = 'left', left_on ='primary_sector',\n",
    "                                  right_on=\"category_list\")\n",
    "main_frame.head()"
   ]
  },
  {
   "cell_type": "code",
   "execution_count": 324,
   "metadata": {},
   "outputs": [
    {
     "data": {
      "text/plain": [
       "Others                                     4154\n",
       "Social, Finance, Analytics, Advertising    2845\n",
       "Cleantech / Semiconductors                 2321\n",
       "News, Search and Messaging                 2229\n",
       "Health                                     1445\n",
       "Entertainment                              1278\n",
       "Manufacturing                              1191\n",
       "Automotive & Sports                         422\n",
       "Name: main_sector, dtype: int64"
      ]
     },
     "execution_count": 324,
     "metadata": {},
     "output_type": "execute_result"
    }
   ],
   "source": [
    "main_frame.main_sector.value_counts()"
   ]
  },
  {
   "cell_type": "markdown",
   "metadata": {},
   "source": [
    "# Checkpoint 5: Sector Analysis 2"
   ]
  },
  {
   "cell_type": "code",
   "execution_count": 325,
   "metadata": {},
   "outputs": [],
   "source": [
    "D1 = main_frame[(main_frame['country_code'] == 'USA') & \n",
    "             (main_frame['raised_amount_usd'] >= 5000000) & \n",
    "             (main_frame['raised_amount_usd'] <= 15000000)]"
   ]
  },
  {
   "cell_type": "code",
   "execution_count": 326,
   "metadata": {},
   "outputs": [
    {
     "data": {
      "text/html": [
       "<div>\n",
       "<style scoped>\n",
       "    .dataframe tbody tr th:only-of-type {\n",
       "        vertical-align: middle;\n",
       "    }\n",
       "\n",
       "    .dataframe tbody tr th {\n",
       "        vertical-align: top;\n",
       "    }\n",
       "\n",
       "    .dataframe thead th {\n",
       "        text-align: right;\n",
       "    }\n",
       "</style>\n",
       "<table border=\"1\" class=\"dataframe\">\n",
       "  <thead>\n",
       "    <tr style=\"text-align: right;\">\n",
       "      <th></th>\n",
       "      <th>company_permalink</th>\n",
       "      <th>funding_round_permalink</th>\n",
       "      <th>funding_round_type</th>\n",
       "      <th>raised_amount_usd</th>\n",
       "      <th>name</th>\n",
       "      <th>category_list_x</th>\n",
       "      <th>status</th>\n",
       "      <th>country_code</th>\n",
       "      <th>primary_sector</th>\n",
       "      <th>category_list_y</th>\n",
       "      <th>main_sector</th>\n",
       "    </tr>\n",
       "  </thead>\n",
       "  <tbody>\n",
       "    <tr>\n",
       "      <th>5</th>\n",
       "      <td>/organization/1-800-dentist</td>\n",
       "      <td>/funding-round/e1cfcbe1bdf4c70277c5f29a3482f24e</td>\n",
       "      <td>venture</td>\n",
       "      <td>8900000.0</td>\n",
       "      <td>1-800-DENTIST</td>\n",
       "      <td>Health and Wellness</td>\n",
       "      <td>operating</td>\n",
       "      <td>USA</td>\n",
       "      <td>Health and Wellness</td>\n",
       "      <td>Health and Wellness</td>\n",
       "      <td>Health</td>\n",
       "    </tr>\n",
       "    <tr>\n",
       "      <th>10</th>\n",
       "      <td>/organization/120-sports</td>\n",
       "      <td>/funding-round/a21fc4d20200f43e3a25fd9cfc7c1482</td>\n",
       "      <td>venture</td>\n",
       "      <td>8900000.0</td>\n",
       "      <td>120 Sports</td>\n",
       "      <td>Sports</td>\n",
       "      <td>operating</td>\n",
       "      <td>USA</td>\n",
       "      <td>Sports</td>\n",
       "      <td>Sports</td>\n",
       "      <td>Automotive &amp; Sports</td>\n",
       "    </tr>\n",
       "    <tr>\n",
       "      <th>16</th>\n",
       "      <td>/organization/1eq</td>\n",
       "      <td>/funding-round/fb6216a30cb566ede89e0bee0623a634</td>\n",
       "      <td>venture</td>\n",
       "      <td>11999347.0</td>\n",
       "      <td>Babyscripts</td>\n",
       "      <td>Health and Wellness|Mobile Health</td>\n",
       "      <td>operating</td>\n",
       "      <td>USA</td>\n",
       "      <td>Health and Wellness</td>\n",
       "      <td>Health and Wellness</td>\n",
       "      <td>Health</td>\n",
       "    </tr>\n",
       "    <tr>\n",
       "      <th>24</th>\n",
       "      <td>/organization/22nd-century-group</td>\n",
       "      <td>/funding-round/69690484f51e15bc27ff52bfe472cd96</td>\n",
       "      <td>venture</td>\n",
       "      <td>5000000.0</td>\n",
       "      <td>22nd Century Group</td>\n",
       "      <td>Biotechnology</td>\n",
       "      <td>ipo</td>\n",
       "      <td>USA</td>\n",
       "      <td>Biotechnology</td>\n",
       "      <td>Biotechnology</td>\n",
       "      <td>Cleantech / Semiconductors</td>\n",
       "    </tr>\n",
       "    <tr>\n",
       "      <th>26</th>\n",
       "      <td>/organization/24-hour-pro-muscle-gym</td>\n",
       "      <td>/funding-round/61660637eae067a2980ecbc3633ad262</td>\n",
       "      <td>venture</td>\n",
       "      <td>6230000.0</td>\n",
       "      <td>24 Hour Pro Muscle Gym</td>\n",
       "      <td>Sports</td>\n",
       "      <td>operating</td>\n",
       "      <td>USA</td>\n",
       "      <td>Sports</td>\n",
       "      <td>Sports</td>\n",
       "      <td>Automotive &amp; Sports</td>\n",
       "    </tr>\n",
       "  </tbody>\n",
       "</table>\n",
       "</div>"
      ],
      "text/plain": [
       "                       company_permalink  \\\n",
       "5            /organization/1-800-dentist   \n",
       "10              /organization/120-sports   \n",
       "16                     /organization/1eq   \n",
       "24      /organization/22nd-century-group   \n",
       "26  /organization/24-hour-pro-muscle-gym   \n",
       "\n",
       "                            funding_round_permalink funding_round_type  \\\n",
       "5   /funding-round/e1cfcbe1bdf4c70277c5f29a3482f24e            venture   \n",
       "10  /funding-round/a21fc4d20200f43e3a25fd9cfc7c1482            venture   \n",
       "16  /funding-round/fb6216a30cb566ede89e0bee0623a634            venture   \n",
       "24  /funding-round/69690484f51e15bc27ff52bfe472cd96            venture   \n",
       "26  /funding-round/61660637eae067a2980ecbc3633ad262            venture   \n",
       "\n",
       "    raised_amount_usd                    name  \\\n",
       "5           8900000.0           1-800-DENTIST   \n",
       "10          8900000.0              120 Sports   \n",
       "16         11999347.0             Babyscripts   \n",
       "24          5000000.0      22nd Century Group   \n",
       "26          6230000.0  24 Hour Pro Muscle Gym   \n",
       "\n",
       "                      category_list_x     status country_code  \\\n",
       "5                 Health and Wellness  operating          USA   \n",
       "10                             Sports  operating          USA   \n",
       "16  Health and Wellness|Mobile Health  operating          USA   \n",
       "24                      Biotechnology        ipo          USA   \n",
       "26                             Sports  operating          USA   \n",
       "\n",
       "         primary_sector      category_list_y                 main_sector  \n",
       "5   Health and Wellness  Health and Wellness                      Health  \n",
       "10               Sports               Sports         Automotive & Sports  \n",
       "16  Health and Wellness  Health and Wellness                      Health  \n",
       "24        Biotechnology        Biotechnology  Cleantech / Semiconductors  \n",
       "26               Sports               Sports         Automotive & Sports  "
      ]
     },
     "execution_count": 326,
     "metadata": {},
     "output_type": "execute_result"
    }
   ],
   "source": [
    "D1.head()\n"
   ]
  },
  {
   "cell_type": "code",
   "execution_count": 327,
   "metadata": {},
   "outputs": [],
   "source": [
    "# group by main sector and get sum and count of raised_amount_usd\n",
    "D1_agg = D1[['raised_amount_usd','main_sector']].groupby('main_sector').agg(['sum', 'count']).rename(\n",
    "    columns={'sum':'Total_amount','count' : 'Total_count'})\n",
    "#drop level so that it can be merged with main data\n",
    "D1_agg = D1_agg.droplevel(axis=1, level=[0]).reset_index()\n"
   ]
  },
  {
   "cell_type": "code",
   "execution_count": 328,
   "metadata": {},
   "outputs": [],
   "source": [
    "D1 = D1.merge(D1_agg, how='left', on ='main_sector')"
   ]
  },
  {
   "cell_type": "code",
   "execution_count": 329,
   "metadata": {},
   "outputs": [
    {
     "data": {
      "text/html": [
       "<div>\n",
       "<style scoped>\n",
       "    .dataframe tbody tr th:only-of-type {\n",
       "        vertical-align: middle;\n",
       "    }\n",
       "\n",
       "    .dataframe tbody tr th {\n",
       "        vertical-align: top;\n",
       "    }\n",
       "\n",
       "    .dataframe thead th {\n",
       "        text-align: right;\n",
       "    }\n",
       "</style>\n",
       "<table border=\"1\" class=\"dataframe\">\n",
       "  <thead>\n",
       "    <tr style=\"text-align: right;\">\n",
       "      <th></th>\n",
       "      <th>company_permalink</th>\n",
       "      <th>funding_round_permalink</th>\n",
       "      <th>funding_round_type</th>\n",
       "      <th>raised_amount_usd</th>\n",
       "      <th>name</th>\n",
       "      <th>category_list_x</th>\n",
       "      <th>status</th>\n",
       "      <th>country_code</th>\n",
       "      <th>primary_sector</th>\n",
       "      <th>category_list_y</th>\n",
       "      <th>main_sector</th>\n",
       "      <th>Total_amount</th>\n",
       "      <th>Total_count</th>\n",
       "    </tr>\n",
       "  </thead>\n",
       "  <tbody>\n",
       "    <tr>\n",
       "      <th>0</th>\n",
       "      <td>/organization/1-800-dentist</td>\n",
       "      <td>/funding-round/e1cfcbe1bdf4c70277c5f29a3482f24e</td>\n",
       "      <td>venture</td>\n",
       "      <td>8900000.0</td>\n",
       "      <td>1-800-DENTIST</td>\n",
       "      <td>Health and Wellness</td>\n",
       "      <td>operating</td>\n",
       "      <td>USA</td>\n",
       "      <td>Health and Wellness</td>\n",
       "      <td>Health and Wellness</td>\n",
       "      <td>Health</td>\n",
       "      <td>3.901817e+09</td>\n",
       "      <td>436.0</td>\n",
       "    </tr>\n",
       "    <tr>\n",
       "      <th>1</th>\n",
       "      <td>/organization/120-sports</td>\n",
       "      <td>/funding-round/a21fc4d20200f43e3a25fd9cfc7c1482</td>\n",
       "      <td>venture</td>\n",
       "      <td>8900000.0</td>\n",
       "      <td>120 Sports</td>\n",
       "      <td>Sports</td>\n",
       "      <td>operating</td>\n",
       "      <td>USA</td>\n",
       "      <td>Sports</td>\n",
       "      <td>Sports</td>\n",
       "      <td>Automotive &amp; Sports</td>\n",
       "      <td>9.549889e+08</td>\n",
       "      <td>108.0</td>\n",
       "    </tr>\n",
       "    <tr>\n",
       "      <th>2</th>\n",
       "      <td>/organization/1eq</td>\n",
       "      <td>/funding-round/fb6216a30cb566ede89e0bee0623a634</td>\n",
       "      <td>venture</td>\n",
       "      <td>11999347.0</td>\n",
       "      <td>Babyscripts</td>\n",
       "      <td>Health and Wellness|Mobile Health</td>\n",
       "      <td>operating</td>\n",
       "      <td>USA</td>\n",
       "      <td>Health and Wellness</td>\n",
       "      <td>Health and Wellness</td>\n",
       "      <td>Health</td>\n",
       "      <td>3.901817e+09</td>\n",
       "      <td>436.0</td>\n",
       "    </tr>\n",
       "    <tr>\n",
       "      <th>3</th>\n",
       "      <td>/organization/22nd-century-group</td>\n",
       "      <td>/funding-round/69690484f51e15bc27ff52bfe472cd96</td>\n",
       "      <td>venture</td>\n",
       "      <td>5000000.0</td>\n",
       "      <td>22nd Century Group</td>\n",
       "      <td>Biotechnology</td>\n",
       "      <td>ipo</td>\n",
       "      <td>USA</td>\n",
       "      <td>Biotechnology</td>\n",
       "      <td>Biotechnology</td>\n",
       "      <td>Cleantech / Semiconductors</td>\n",
       "      <td>6.500448e+09</td>\n",
       "      <td>724.0</td>\n",
       "    </tr>\n",
       "    <tr>\n",
       "      <th>4</th>\n",
       "      <td>/organization/24-hour-pro-muscle-gym</td>\n",
       "      <td>/funding-round/61660637eae067a2980ecbc3633ad262</td>\n",
       "      <td>venture</td>\n",
       "      <td>6230000.0</td>\n",
       "      <td>24 Hour Pro Muscle Gym</td>\n",
       "      <td>Sports</td>\n",
       "      <td>operating</td>\n",
       "      <td>USA</td>\n",
       "      <td>Sports</td>\n",
       "      <td>Sports</td>\n",
       "      <td>Automotive &amp; Sports</td>\n",
       "      <td>9.549889e+08</td>\n",
       "      <td>108.0</td>\n",
       "    </tr>\n",
       "  </tbody>\n",
       "</table>\n",
       "</div>"
      ],
      "text/plain": [
       "                      company_permalink  \\\n",
       "0           /organization/1-800-dentist   \n",
       "1              /organization/120-sports   \n",
       "2                     /organization/1eq   \n",
       "3      /organization/22nd-century-group   \n",
       "4  /organization/24-hour-pro-muscle-gym   \n",
       "\n",
       "                           funding_round_permalink funding_round_type  \\\n",
       "0  /funding-round/e1cfcbe1bdf4c70277c5f29a3482f24e            venture   \n",
       "1  /funding-round/a21fc4d20200f43e3a25fd9cfc7c1482            venture   \n",
       "2  /funding-round/fb6216a30cb566ede89e0bee0623a634            venture   \n",
       "3  /funding-round/69690484f51e15bc27ff52bfe472cd96            venture   \n",
       "4  /funding-round/61660637eae067a2980ecbc3633ad262            venture   \n",
       "\n",
       "   raised_amount_usd                    name  \\\n",
       "0          8900000.0           1-800-DENTIST   \n",
       "1          8900000.0              120 Sports   \n",
       "2         11999347.0             Babyscripts   \n",
       "3          5000000.0      22nd Century Group   \n",
       "4          6230000.0  24 Hour Pro Muscle Gym   \n",
       "\n",
       "                     category_list_x     status country_code  \\\n",
       "0                Health and Wellness  operating          USA   \n",
       "1                             Sports  operating          USA   \n",
       "2  Health and Wellness|Mobile Health  operating          USA   \n",
       "3                      Biotechnology        ipo          USA   \n",
       "4                             Sports  operating          USA   \n",
       "\n",
       "        primary_sector      category_list_y                 main_sector  \\\n",
       "0  Health and Wellness  Health and Wellness                      Health   \n",
       "1               Sports               Sports         Automotive & Sports   \n",
       "2  Health and Wellness  Health and Wellness                      Health   \n",
       "3        Biotechnology        Biotechnology  Cleantech / Semiconductors   \n",
       "4               Sports               Sports         Automotive & Sports   \n",
       "\n",
       "   Total_amount  Total_count  \n",
       "0  3.901817e+09        436.0  \n",
       "1  9.549889e+08        108.0  \n",
       "2  3.901817e+09        436.0  \n",
       "3  6.500448e+09        724.0  \n",
       "4  9.549889e+08        108.0  "
      ]
     },
     "execution_count": 329,
     "metadata": {},
     "output_type": "execute_result"
    }
   ],
   "source": [
    "D1.head()"
   ]
  },
  {
   "cell_type": "code",
   "execution_count": 330,
   "metadata": {},
   "outputs": [],
   "source": [
    "D2 = main_frame[(main_frame['country_code'] == 'GBR') & \n",
    "             (main_frame['raised_amount_usd'] >= 5000000) & \n",
    "             (main_frame['raised_amount_usd'] <= 15000000)]"
   ]
  },
  {
   "cell_type": "code",
   "execution_count": 331,
   "metadata": {},
   "outputs": [],
   "source": [
    "# group by main sector and get sum and count of raised_amount_usd\n",
    "D2_agg = D2[['raised_amount_usd','main_sector']].groupby('main_sector').agg(['sum', 'count']).rename(\n",
    "    columns={'sum':'Total_amount','count' : 'Total_count'})\n",
    "#drop level so that it can be merged with main data\n",
    "D2_agg = D2_agg.droplevel(axis=1, level=[0]).reset_index()\n"
   ]
  },
  {
   "cell_type": "code",
   "execution_count": 332,
   "metadata": {},
   "outputs": [],
   "source": [
    "D2 = D2.merge(D2_agg, how='left', on ='main_sector')"
   ]
  },
  {
   "cell_type": "code",
   "execution_count": 333,
   "metadata": {},
   "outputs": [
    {
     "data": {
      "text/html": [
       "<div>\n",
       "<style scoped>\n",
       "    .dataframe tbody tr th:only-of-type {\n",
       "        vertical-align: middle;\n",
       "    }\n",
       "\n",
       "    .dataframe tbody tr th {\n",
       "        vertical-align: top;\n",
       "    }\n",
       "\n",
       "    .dataframe thead th {\n",
       "        text-align: right;\n",
       "    }\n",
       "</style>\n",
       "<table border=\"1\" class=\"dataframe\">\n",
       "  <thead>\n",
       "    <tr style=\"text-align: right;\">\n",
       "      <th></th>\n",
       "      <th>company_permalink</th>\n",
       "      <th>funding_round_permalink</th>\n",
       "      <th>funding_round_type</th>\n",
       "      <th>raised_amount_usd</th>\n",
       "      <th>name</th>\n",
       "      <th>category_list_x</th>\n",
       "      <th>status</th>\n",
       "      <th>country_code</th>\n",
       "      <th>primary_sector</th>\n",
       "      <th>category_list_y</th>\n",
       "      <th>main_sector</th>\n",
       "      <th>Total_amount</th>\n",
       "      <th>Total_count</th>\n",
       "    </tr>\n",
       "  </thead>\n",
       "  <tbody>\n",
       "    <tr>\n",
       "      <th>0</th>\n",
       "      <td>/organization/1rebel</td>\n",
       "      <td>/funding-round/6d3f3797371956ece035b8478c1441b2</td>\n",
       "      <td>venture</td>\n",
       "      <td>5000000.0</td>\n",
       "      <td>1Rebel</td>\n",
       "      <td>Fitness</td>\n",
       "      <td>operating</td>\n",
       "      <td>GBR</td>\n",
       "      <td>Fitness</td>\n",
       "      <td>Fitness</td>\n",
       "      <td>Health</td>\n",
       "      <td>229049429.0</td>\n",
       "      <td>26.0</td>\n",
       "    </tr>\n",
       "    <tr>\n",
       "      <th>1</th>\n",
       "      <td>/organization/40-partners-ltd</td>\n",
       "      <td>/funding-round/54874a891ac80a0a6b87e6a8eaf79fe8</td>\n",
       "      <td>venture</td>\n",
       "      <td>10000000.0</td>\n",
       "      <td>40 Partners Ltd</td>\n",
       "      <td>Creative Industries|Entertainment|Television</td>\n",
       "      <td>operating</td>\n",
       "      <td>GBR</td>\n",
       "      <td>Creative Industries</td>\n",
       "      <td>Creative Industries</td>\n",
       "      <td>Entertainment</td>\n",
       "      <td>455270303.0</td>\n",
       "      <td>51.0</td>\n",
       "    </tr>\n",
       "  </tbody>\n",
       "</table>\n",
       "</div>"
      ],
      "text/plain": [
       "               company_permalink  \\\n",
       "0           /organization/1rebel   \n",
       "1  /organization/40-partners-ltd   \n",
       "\n",
       "                           funding_round_permalink funding_round_type  \\\n",
       "0  /funding-round/6d3f3797371956ece035b8478c1441b2            venture   \n",
       "1  /funding-round/54874a891ac80a0a6b87e6a8eaf79fe8            venture   \n",
       "\n",
       "   raised_amount_usd             name  \\\n",
       "0          5000000.0           1Rebel   \n",
       "1         10000000.0  40 Partners Ltd   \n",
       "\n",
       "                                category_list_x     status country_code  \\\n",
       "0                                       Fitness  operating          GBR   \n",
       "1  Creative Industries|Entertainment|Television  operating          GBR   \n",
       "\n",
       "        primary_sector      category_list_y    main_sector  Total_amount  \\\n",
       "0              Fitness              Fitness         Health   229049429.0   \n",
       "1  Creative Industries  Creative Industries  Entertainment   455270303.0   \n",
       "\n",
       "   Total_count  \n",
       "0         26.0  \n",
       "1         51.0  "
      ]
     },
     "execution_count": 333,
     "metadata": {},
     "output_type": "execute_result"
    }
   ],
   "source": [
    "D2.head(2)"
   ]
  },
  {
   "cell_type": "code",
   "execution_count": 334,
   "metadata": {},
   "outputs": [],
   "source": [
    "D3 = main_frame[(main_frame['country_code'] == 'IND') & \n",
    "             (main_frame['raised_amount_usd'] >= 5000000) & \n",
    "             (main_frame['raised_amount_usd'] <= 15000000)]"
   ]
  },
  {
   "cell_type": "code",
   "execution_count": 335,
   "metadata": {},
   "outputs": [],
   "source": [
    "# group by main sector and get sum and count of raised_amount_usd\n",
    "D3_agg = D3[['raised_amount_usd','main_sector']].groupby('main_sector').agg(['sum', 'count']).rename(\n",
    "    columns={'sum':'Total_amount','count' : 'Total_count'})\n",
    "#drop level so that it can be merged with main data\n",
    "D3_agg = D3_agg.droplevel(axis=1, level=[0]).reset_index()\n"
   ]
  },
  {
   "cell_type": "code",
   "execution_count": 336,
   "metadata": {},
   "outputs": [],
   "source": [
    "D3 = D3.merge(D3_agg, how='left', on ='main_sector')"
   ]
  },
  {
   "cell_type": "code",
   "execution_count": 337,
   "metadata": {},
   "outputs": [
    {
     "data": {
      "text/html": [
       "<div>\n",
       "<style scoped>\n",
       "    .dataframe tbody tr th:only-of-type {\n",
       "        vertical-align: middle;\n",
       "    }\n",
       "\n",
       "    .dataframe tbody tr th {\n",
       "        vertical-align: top;\n",
       "    }\n",
       "\n",
       "    .dataframe thead th {\n",
       "        text-align: right;\n",
       "    }\n",
       "</style>\n",
       "<table border=\"1\" class=\"dataframe\">\n",
       "  <thead>\n",
       "    <tr style=\"text-align: right;\">\n",
       "      <th></th>\n",
       "      <th>company_permalink</th>\n",
       "      <th>funding_round_permalink</th>\n",
       "      <th>funding_round_type</th>\n",
       "      <th>raised_amount_usd</th>\n",
       "      <th>name</th>\n",
       "      <th>category_list_x</th>\n",
       "      <th>status</th>\n",
       "      <th>country_code</th>\n",
       "      <th>primary_sector</th>\n",
       "      <th>category_list_y</th>\n",
       "      <th>main_sector</th>\n",
       "      <th>Total_amount</th>\n",
       "      <th>Total_count</th>\n",
       "    </tr>\n",
       "  </thead>\n",
       "  <tbody>\n",
       "    <tr>\n",
       "      <th>0</th>\n",
       "      <td>/organization/-fame</td>\n",
       "      <td>/funding-round/9a01d05418af9f794eebff7ace91f638</td>\n",
       "      <td>venture</td>\n",
       "      <td>10000000.0</td>\n",
       "      <td>#fame</td>\n",
       "      <td>Media</td>\n",
       "      <td>operating</td>\n",
       "      <td>IND</td>\n",
       "      <td>Media</td>\n",
       "      <td>Media</td>\n",
       "      <td>Entertainment</td>\n",
       "      <td>229804824.0</td>\n",
       "      <td>25.0</td>\n",
       "    </tr>\n",
       "    <tr>\n",
       "      <th>1</th>\n",
       "      <td>/organization/1000lookz</td>\n",
       "      <td>/funding-round/b952cbaf401f310927430c97b68162ea</td>\n",
       "      <td>venture</td>\n",
       "      <td>5000000.0</td>\n",
       "      <td>1000Lookz</td>\n",
       "      <td>Beauty</td>\n",
       "      <td>operating</td>\n",
       "      <td>IND</td>\n",
       "      <td>Beauty</td>\n",
       "      <td>Beauty</td>\n",
       "      <td>Health</td>\n",
       "      <td>78705000.0</td>\n",
       "      <td>12.0</td>\n",
       "    </tr>\n",
       "    <tr>\n",
       "      <th>2</th>\n",
       "      <td>/organization/99games-online-private-limited</td>\n",
       "      <td>/funding-round/7c1b312fd45a3ac21a44a9c8b2f6fb0f</td>\n",
       "      <td>venture</td>\n",
       "      <td>13660000.0</td>\n",
       "      <td>99Games Online Private Limited</td>\n",
       "      <td>Games</td>\n",
       "      <td>operating</td>\n",
       "      <td>IND</td>\n",
       "      <td>Games</td>\n",
       "      <td>Games</td>\n",
       "      <td>Entertainment</td>\n",
       "      <td>229804824.0</td>\n",
       "      <td>25.0</td>\n",
       "    </tr>\n",
       "    <tr>\n",
       "      <th>3</th>\n",
       "      <td>/organization/a-little-world</td>\n",
       "      <td>/funding-round/3b3bc42a55a1429e783e6df058dc3676</td>\n",
       "      <td>venture</td>\n",
       "      <td>6999995.0</td>\n",
       "      <td>A LITTLE WORLD</td>\n",
       "      <td>Finance</td>\n",
       "      <td>operating</td>\n",
       "      <td>IND</td>\n",
       "      <td>Finance</td>\n",
       "      <td>NaN</td>\n",
       "      <td>NaN</td>\n",
       "      <td>NaN</td>\n",
       "      <td>NaN</td>\n",
       "    </tr>\n",
       "    <tr>\n",
       "      <th>4</th>\n",
       "      <td>/organization/adstringo</td>\n",
       "      <td>/funding-round/79984eff3785db8683fb7a73fc4e8923</td>\n",
       "      <td>venture</td>\n",
       "      <td>10000000.0</td>\n",
       "      <td>AdStringO</td>\n",
       "      <td>Software</td>\n",
       "      <td>operating</td>\n",
       "      <td>IND</td>\n",
       "      <td>Software</td>\n",
       "      <td>Software</td>\n",
       "      <td>Others</td>\n",
       "      <td>571442653.0</td>\n",
       "      <td>63.0</td>\n",
       "    </tr>\n",
       "  </tbody>\n",
       "</table>\n",
       "</div>"
      ],
      "text/plain": [
       "                              company_permalink  \\\n",
       "0                           /organization/-fame   \n",
       "1                       /organization/1000lookz   \n",
       "2  /organization/99games-online-private-limited   \n",
       "3                  /organization/a-little-world   \n",
       "4                       /organization/adstringo   \n",
       "\n",
       "                           funding_round_permalink funding_round_type  \\\n",
       "0  /funding-round/9a01d05418af9f794eebff7ace91f638            venture   \n",
       "1  /funding-round/b952cbaf401f310927430c97b68162ea            venture   \n",
       "2  /funding-round/7c1b312fd45a3ac21a44a9c8b2f6fb0f            venture   \n",
       "3  /funding-round/3b3bc42a55a1429e783e6df058dc3676            venture   \n",
       "4  /funding-round/79984eff3785db8683fb7a73fc4e8923            venture   \n",
       "\n",
       "   raised_amount_usd                            name category_list_x  \\\n",
       "0         10000000.0                           #fame           Media   \n",
       "1          5000000.0                       1000Lookz          Beauty   \n",
       "2         13660000.0  99Games Online Private Limited           Games   \n",
       "3          6999995.0                  A LITTLE WORLD         Finance   \n",
       "4         10000000.0                       AdStringO        Software   \n",
       "\n",
       "      status country_code primary_sector category_list_y    main_sector  \\\n",
       "0  operating          IND          Media           Media  Entertainment   \n",
       "1  operating          IND         Beauty          Beauty         Health   \n",
       "2  operating          IND          Games           Games  Entertainment   \n",
       "3  operating          IND        Finance             NaN            NaN   \n",
       "4  operating          IND       Software        Software         Others   \n",
       "\n",
       "   Total_amount  Total_count  \n",
       "0   229804824.0         25.0  \n",
       "1    78705000.0         12.0  \n",
       "2   229804824.0         25.0  \n",
       "3           NaN          NaN  \n",
       "4   571442653.0         63.0  "
      ]
     },
     "execution_count": 337,
     "metadata": {},
     "output_type": "execute_result"
    }
   ],
   "source": [
    "D3.head()"
   ]
  },
  {
   "cell_type": "code",
   "execution_count": 338,
   "metadata": {},
   "outputs": [
    {
     "name": "stdout",
     "output_type": "stream",
     "text": [
      "4902\n",
      "457\n",
      "191\n"
     ]
    }
   ],
   "source": [
    "#Count number of investments\n",
    "print(D1.raised_amount_usd.count())\n",
    "print(D2.raised_amount_usd.count())\n",
    "print(D3.raised_amount_usd.count())"
   ]
  },
  {
   "cell_type": "code",
   "execution_count": 339,
   "metadata": {},
   "outputs": [
    {
     "name": "stdout",
     "output_type": "stream",
     "text": [
      "43531171771\n",
      "4020268135\n",
      "1689720461\n"
     ]
    }
   ],
   "source": [
    "#Pint Sum of raised_amount in USD\n",
    "print(round(D1.raised_amount_usd.sum()))\n",
    "print(round(D2.raised_amount_usd.sum()))\n",
    "print(round(D3.raised_amount_usd.sum()))"
   ]
  },
  {
   "cell_type": "code",
   "execution_count": 340,
   "metadata": {},
   "outputs": [
    {
     "data": {
      "text/html": [
       "<div>\n",
       "<style scoped>\n",
       "    .dataframe tbody tr th:only-of-type {\n",
       "        vertical-align: middle;\n",
       "    }\n",
       "\n",
       "    .dataframe tbody tr th {\n",
       "        vertical-align: top;\n",
       "    }\n",
       "\n",
       "    .dataframe thead th {\n",
       "        text-align: right;\n",
       "    }\n",
       "</style>\n",
       "<table border=\"1\" class=\"dataframe\">\n",
       "  <thead>\n",
       "    <tr style=\"text-align: right;\">\n",
       "      <th></th>\n",
       "      <th>main_sector</th>\n",
       "      <th>Total_amount</th>\n",
       "      <th>Total_count</th>\n",
       "    </tr>\n",
       "  </thead>\n",
       "  <tbody>\n",
       "    <tr>\n",
       "      <th>6</th>\n",
       "      <td>Others</td>\n",
       "      <td>1.048803e+10</td>\n",
       "      <td>1193</td>\n",
       "    </tr>\n",
       "    <tr>\n",
       "      <th>7</th>\n",
       "      <td>Social, Finance, Analytics, Advertising</td>\n",
       "      <td>7.007453e+09</td>\n",
       "      <td>795</td>\n",
       "    </tr>\n",
       "    <tr>\n",
       "      <th>1</th>\n",
       "      <td>Cleantech / Semiconductors</td>\n",
       "      <td>6.500448e+09</td>\n",
       "      <td>724</td>\n",
       "    </tr>\n",
       "    <tr>\n",
       "      <th>5</th>\n",
       "      <td>News, Search and Messaging</td>\n",
       "      <td>5.487191e+09</td>\n",
       "      <td>607</td>\n",
       "    </tr>\n",
       "    <tr>\n",
       "      <th>3</th>\n",
       "      <td>Health</td>\n",
       "      <td>3.901817e+09</td>\n",
       "      <td>436</td>\n",
       "    </tr>\n",
       "    <tr>\n",
       "      <th>4</th>\n",
       "      <td>Manufacturing</td>\n",
       "      <td>3.058107e+09</td>\n",
       "      <td>348</td>\n",
       "    </tr>\n",
       "    <tr>\n",
       "      <th>2</th>\n",
       "      <td>Entertainment</td>\n",
       "      <td>3.017680e+09</td>\n",
       "      <td>339</td>\n",
       "    </tr>\n",
       "    <tr>\n",
       "      <th>0</th>\n",
       "      <td>Automotive &amp; Sports</td>\n",
       "      <td>9.549889e+08</td>\n",
       "      <td>108</td>\n",
       "    </tr>\n",
       "  </tbody>\n",
       "</table>\n",
       "</div>"
      ],
      "text/plain": [
       "                               main_sector  Total_amount  Total_count\n",
       "6                                   Others  1.048803e+10         1193\n",
       "7  Social, Finance, Analytics, Advertising  7.007453e+09          795\n",
       "1               Cleantech / Semiconductors  6.500448e+09          724\n",
       "5               News, Search and Messaging  5.487191e+09          607\n",
       "3                                   Health  3.901817e+09          436\n",
       "4                            Manufacturing  3.058107e+09          348\n",
       "2                            Entertainment  3.017680e+09          339\n",
       "0                      Automotive & Sports  9.549889e+08          108"
      ]
     },
     "execution_count": 340,
     "metadata": {},
     "output_type": "execute_result"
    }
   ],
   "source": [
    "#Sort by Total_count\n",
    "D1_agg.sort_values(\"Total_count\",ascending=False)"
   ]
  },
  {
   "cell_type": "code",
   "execution_count": 352,
   "metadata": {},
   "outputs": [
    {
     "data": {
      "text/html": [
       "<div>\n",
       "<style scoped>\n",
       "    .dataframe tbody tr th:only-of-type {\n",
       "        vertical-align: middle;\n",
       "    }\n",
       "\n",
       "    .dataframe tbody tr th {\n",
       "        vertical-align: top;\n",
       "    }\n",
       "\n",
       "    .dataframe thead th {\n",
       "        text-align: right;\n",
       "    }\n",
       "</style>\n",
       "<table border=\"1\" class=\"dataframe\">\n",
       "  <thead>\n",
       "    <tr style=\"text-align: right;\">\n",
       "      <th></th>\n",
       "      <th>main_sector</th>\n",
       "      <th>Total_amount</th>\n",
       "      <th>Total_count</th>\n",
       "    </tr>\n",
       "  </thead>\n",
       "  <tbody>\n",
       "    <tr>\n",
       "      <th>6</th>\n",
       "      <td>Others</td>\n",
       "      <td>893048701.0</td>\n",
       "      <td>106</td>\n",
       "    </tr>\n",
       "    <tr>\n",
       "      <th>7</th>\n",
       "      <td>Social, Finance, Analytics, Advertising</td>\n",
       "      <td>696920238.0</td>\n",
       "      <td>81</td>\n",
       "    </tr>\n",
       "    <tr>\n",
       "      <th>5</th>\n",
       "      <td>News, Search and Messaging</td>\n",
       "      <td>614093384.0</td>\n",
       "      <td>69</td>\n",
       "    </tr>\n",
       "    <tr>\n",
       "      <th>1</th>\n",
       "      <td>Cleantech / Semiconductors</td>\n",
       "      <td>529886522.0</td>\n",
       "      <td>57</td>\n",
       "    </tr>\n",
       "    <tr>\n",
       "      <th>2</th>\n",
       "      <td>Entertainment</td>\n",
       "      <td>455270303.0</td>\n",
       "      <td>51</td>\n",
       "    </tr>\n",
       "    <tr>\n",
       "      <th>4</th>\n",
       "      <td>Manufacturing</td>\n",
       "      <td>299445583.0</td>\n",
       "      <td>32</td>\n",
       "    </tr>\n",
       "    <tr>\n",
       "      <th>3</th>\n",
       "      <td>Health</td>\n",
       "      <td>229049429.0</td>\n",
       "      <td>26</td>\n",
       "    </tr>\n",
       "    <tr>\n",
       "      <th>0</th>\n",
       "      <td>Automotive &amp; Sports</td>\n",
       "      <td>32800000.0</td>\n",
       "      <td>4</td>\n",
       "    </tr>\n",
       "  </tbody>\n",
       "</table>\n",
       "</div>"
      ],
      "text/plain": [
       "                               main_sector  Total_amount  Total_count\n",
       "6                                   Others   893048701.0          106\n",
       "7  Social, Finance, Analytics, Advertising   696920238.0           81\n",
       "5               News, Search and Messaging   614093384.0           69\n",
       "1               Cleantech / Semiconductors   529886522.0           57\n",
       "2                            Entertainment   455270303.0           51\n",
       "4                            Manufacturing   299445583.0           32\n",
       "3                                   Health   229049429.0           26\n",
       "0                      Automotive & Sports    32800000.0            4"
      ]
     },
     "execution_count": 352,
     "metadata": {},
     "output_type": "execute_result"
    }
   ],
   "source": [
    "#Sort by Total_count\n",
    "D2_agg.sort_values(\"Total_count\",ascending=False)"
   ]
  },
  {
   "cell_type": "code",
   "execution_count": 342,
   "metadata": {},
   "outputs": [
    {
     "data": {
      "text/html": [
       "<div>\n",
       "<style scoped>\n",
       "    .dataframe tbody tr th:only-of-type {\n",
       "        vertical-align: middle;\n",
       "    }\n",
       "\n",
       "    .dataframe tbody tr th {\n",
       "        vertical-align: top;\n",
       "    }\n",
       "\n",
       "    .dataframe thead th {\n",
       "        text-align: right;\n",
       "    }\n",
       "</style>\n",
       "<table border=\"1\" class=\"dataframe\">\n",
       "  <thead>\n",
       "    <tr style=\"text-align: right;\">\n",
       "      <th></th>\n",
       "      <th>main_sector</th>\n",
       "      <th>Total_amount</th>\n",
       "      <th>Total_count</th>\n",
       "    </tr>\n",
       "  </thead>\n",
       "  <tbody>\n",
       "    <tr>\n",
       "      <th>6</th>\n",
       "      <td>Others</td>\n",
       "      <td>571442653.0</td>\n",
       "      <td>63</td>\n",
       "    </tr>\n",
       "    <tr>\n",
       "      <th>2</th>\n",
       "      <td>Entertainment</td>\n",
       "      <td>229804824.0</td>\n",
       "      <td>25</td>\n",
       "    </tr>\n",
       "    <tr>\n",
       "      <th>5</th>\n",
       "      <td>News, Search and Messaging</td>\n",
       "      <td>239812475.0</td>\n",
       "      <td>25</td>\n",
       "    </tr>\n",
       "    <tr>\n",
       "      <th>7</th>\n",
       "      <td>Social, Finance, Analytics, Advertising</td>\n",
       "      <td>191036232.0</td>\n",
       "      <td>22</td>\n",
       "    </tr>\n",
       "    <tr>\n",
       "      <th>4</th>\n",
       "      <td>Manufacturing</td>\n",
       "      <td>141904960.0</td>\n",
       "      <td>15</td>\n",
       "    </tr>\n",
       "    <tr>\n",
       "      <th>3</th>\n",
       "      <td>Health</td>\n",
       "      <td>78705000.0</td>\n",
       "      <td>12</td>\n",
       "    </tr>\n",
       "    <tr>\n",
       "      <th>1</th>\n",
       "      <td>Cleantech / Semiconductors</td>\n",
       "      <td>89855661.0</td>\n",
       "      <td>11</td>\n",
       "    </tr>\n",
       "    <tr>\n",
       "      <th>0</th>\n",
       "      <td>Automotive &amp; Sports</td>\n",
       "      <td>30999997.0</td>\n",
       "      <td>4</td>\n",
       "    </tr>\n",
       "  </tbody>\n",
       "</table>\n",
       "</div>"
      ],
      "text/plain": [
       "                               main_sector  Total_amount  Total_count\n",
       "6                                   Others   571442653.0           63\n",
       "2                            Entertainment   229804824.0           25\n",
       "5               News, Search and Messaging   239812475.0           25\n",
       "7  Social, Finance, Analytics, Advertising   191036232.0           22\n",
       "4                            Manufacturing   141904960.0           15\n",
       "3                                   Health    78705000.0           12\n",
       "1               Cleantech / Semiconductors    89855661.0           11\n",
       "0                      Automotive & Sports    30999997.0            4"
      ]
     },
     "execution_count": 342,
     "metadata": {},
     "output_type": "execute_result"
    }
   ],
   "source": [
    "#Sort by Total_count\n",
    "D3_agg.sort_values(\"Total_count\",ascending=False)"
   ]
  },
  {
   "cell_type": "code",
   "execution_count": 354,
   "metadata": {},
   "outputs": [
    {
     "data": {
      "text/plain": [
       "company_permalink\n",
       "/organization/centrillion-biosciences    15000000.0\n",
       "/organization/pnp-therapeutics           15000000.0\n",
       "/organization/greyson-international      15000000.0\n",
       "/organization/hubble-telemedical         15000000.0\n",
       "/organization/humacyte                   15000000.0\n",
       "Name: raised_amount_usd, dtype: float64"
      ]
     },
     "execution_count": 354,
     "metadata": {},
     "output_type": "execute_result"
    }
   ],
   "source": [
    "#Group By using company_permalink\n",
    "D1[D1['main_sector']=='Cleantech / Semiconductors'].groupby(by='company_permalink')['raised_amount_usd'].sum().sort_values(ascending = False).head(5)"
   ]
  },
  {
   "cell_type": "code",
   "execution_count": 355,
   "metadata": {},
   "outputs": [
    {
     "data": {
      "text/plain": [
       "company_permalink\n",
       "/organization/zperfectgift                     15000000.0\n",
       "/organization/liquidspace                      15000000.0\n",
       "/organization/centro                           15000000.0\n",
       "/organization/velatel-global-communications    15000000.0\n",
       "/organization/quandora                         15000000.0\n",
       "Name: raised_amount_usd, dtype: float64"
      ]
     },
     "execution_count": 355,
     "metadata": {},
     "output_type": "execute_result"
    }
   ],
   "source": [
    "#Group By using company_permalink\n",
    "D1[D1['main_sector']=='Social, Finance, Analytics, Advertising'].groupby(by='company_permalink')['raised_amount_usd'].sum().sort_values(ascending = False).head(5)"
   ]
  },
  {
   "cell_type": "code",
   "execution_count": 356,
   "metadata": {},
   "outputs": [
    {
     "data": {
      "text/plain": [
       "company_permalink\n",
       "/organization/uwi-technology       15000000.0\n",
       "/organization/biomoti              15000000.0\n",
       "/organization/lime-microsystems    15000000.0\n",
       "/organization/i2o-water            15000000.0\n",
       "/organization/eosemi               15000000.0\n",
       "Name: raised_amount_usd, dtype: float64"
      ]
     },
     "execution_count": 356,
     "metadata": {},
     "output_type": "execute_result"
    }
   ],
   "source": [
    "#Group By using company_permalink\n",
    "D2[D2['main_sector']=='Cleantech / Semiconductors'].groupby(by='company_permalink')['raised_amount_usd'].sum().sort_values(ascending = False).head(5)"
   ]
  },
  {
   "cell_type": "code",
   "execution_count": 346,
   "metadata": {},
   "outputs": [
    {
     "data": {
      "text/plain": [
       "company_permalink\n",
       "/organization/wsi-onlinebiz    15000000.0\n",
       "/organization/i-nexus          15000000.0\n",
       "/organization/puzl             15000000.0\n",
       "/organization/bitposter        15000000.0\n",
       "/organization/sparkle-cs       15000000.0\n",
       "Name: raised_amount_usd, dtype: float64"
      ]
     },
     "execution_count": 346,
     "metadata": {},
     "output_type": "execute_result"
    }
   ],
   "source": [
    "#Group By using company_permalink\n",
    "D2[D2['main_sector']=='Social, Finance, Analytics, Advertising'].groupby(by='company_permalink')['raised_amount_usd'].sum().sort_values(ascending = False).head(5)"
   ]
  },
  {
   "cell_type": "code",
   "execution_count": 357,
   "metadata": {},
   "outputs": [
    {
     "data": {
      "text/plain": [
       "company_permalink\n",
       "/organization/propstack        14000000.0\n",
       "/organization/awaaz-de         14000000.0\n",
       "/organization/exotel           14000000.0\n",
       "/organization/grab-2           13012475.0\n",
       "/organization/karmyog-media    13000000.0\n",
       "Name: raised_amount_usd, dtype: float64"
      ]
     },
     "execution_count": 357,
     "metadata": {},
     "output_type": "execute_result"
    }
   ],
   "source": [
    "#Group By using company_permalink\n",
    "D3[D3['main_sector']=='News, Search and Messaging'].groupby(by='company_permalink')['raised_amount_usd'].sum().sort_values(ascending = False).head(5)"
   ]
  },
  {
   "cell_type": "code",
   "execution_count": 348,
   "metadata": {},
   "outputs": [
    {
     "data": {
      "text/plain": [
       "company_permalink\n",
       "/organization/nunook-interactive                             15000000.0\n",
       "/organization/greymeter                                      15000000.0\n",
       "/organization/hungama-digital-media-entertainment-pvt-ltd    15000000.0\n",
       "/organization/mobme-wireless-solutions                       15000000.0\n",
       "/organization/99games-online-private-limited                 13660000.0\n",
       "Name: raised_amount_usd, dtype: float64"
      ]
     },
     "execution_count": 348,
     "metadata": {},
     "output_type": "execute_result"
    }
   ],
   "source": [
    "#Group By using company_permalink\n",
    "D3[D3['main_sector'].isin(['Entertainment','Social, Finance, Analytics, Advertising'])].groupby(by='company_permalink')['raised_amount_usd'].sum().sort_values(ascending = False).head(5)"
   ]
  },
  {
   "cell_type": "code",
   "execution_count": 349,
   "metadata": {},
   "outputs": [],
   "source": [
    "#Sort the dataframes\n",
    "D1_agg1 = D1_agg.sort_values(\"Total_count\",ascending=False).head(4).reset_index()\n",
    "D1_agg1[\"country\"] = \"USA\";\n",
    "D2_agg1 = D2_agg.sort_values(\"Total_count\",ascending=False).head(4).reset_index()\n",
    "D2_agg1[\"country\"] = \"GBR\";\n",
    "D3_agg1 = D3_agg.sort_values(\"Total_count\",ascending=False).head(5).reset_index()\n",
    "D3_agg1[\"country\"] = \"IND\";"
   ]
  },
  {
   "cell_type": "code",
   "execution_count": 350,
   "metadata": {},
   "outputs": [
    {
     "data": {
      "text/html": [
       "<div>\n",
       "<style scoped>\n",
       "    .dataframe tbody tr th:only-of-type {\n",
       "        vertical-align: middle;\n",
       "    }\n",
       "\n",
       "    .dataframe tbody tr th {\n",
       "        vertical-align: top;\n",
       "    }\n",
       "\n",
       "    .dataframe thead th {\n",
       "        text-align: right;\n",
       "    }\n",
       "</style>\n",
       "<table border=\"1\" class=\"dataframe\">\n",
       "  <thead>\n",
       "    <tr style=\"text-align: right;\">\n",
       "      <th></th>\n",
       "      <th>index</th>\n",
       "      <th>main_sector</th>\n",
       "      <th>Total_amount</th>\n",
       "      <th>Total_count</th>\n",
       "      <th>country</th>\n",
       "    </tr>\n",
       "  </thead>\n",
       "  <tbody>\n",
       "    <tr>\n",
       "      <th>0</th>\n",
       "      <td>6</td>\n",
       "      <td>Others</td>\n",
       "      <td>1.048803e+10</td>\n",
       "      <td>1193</td>\n",
       "      <td>USA</td>\n",
       "    </tr>\n",
       "    <tr>\n",
       "      <th>1</th>\n",
       "      <td>7</td>\n",
       "      <td>Social, Finance, Analytics, Advertising</td>\n",
       "      <td>7.007453e+09</td>\n",
       "      <td>795</td>\n",
       "      <td>USA</td>\n",
       "    </tr>\n",
       "    <tr>\n",
       "      <th>2</th>\n",
       "      <td>1</td>\n",
       "      <td>Cleantech / Semiconductors</td>\n",
       "      <td>6.500448e+09</td>\n",
       "      <td>724</td>\n",
       "      <td>USA</td>\n",
       "    </tr>\n",
       "    <tr>\n",
       "      <th>3</th>\n",
       "      <td>5</td>\n",
       "      <td>News, Search and Messaging</td>\n",
       "      <td>5.487191e+09</td>\n",
       "      <td>607</td>\n",
       "      <td>USA</td>\n",
       "    </tr>\n",
       "    <tr>\n",
       "      <th>4</th>\n",
       "      <td>6</td>\n",
       "      <td>Others</td>\n",
       "      <td>8.930487e+08</td>\n",
       "      <td>106</td>\n",
       "      <td>GBR</td>\n",
       "    </tr>\n",
       "    <tr>\n",
       "      <th>5</th>\n",
       "      <td>7</td>\n",
       "      <td>Social, Finance, Analytics, Advertising</td>\n",
       "      <td>6.969202e+08</td>\n",
       "      <td>81</td>\n",
       "      <td>GBR</td>\n",
       "    </tr>\n",
       "    <tr>\n",
       "      <th>6</th>\n",
       "      <td>5</td>\n",
       "      <td>News, Search and Messaging</td>\n",
       "      <td>6.140934e+08</td>\n",
       "      <td>69</td>\n",
       "      <td>GBR</td>\n",
       "    </tr>\n",
       "    <tr>\n",
       "      <th>7</th>\n",
       "      <td>1</td>\n",
       "      <td>Cleantech / Semiconductors</td>\n",
       "      <td>5.298865e+08</td>\n",
       "      <td>57</td>\n",
       "      <td>GBR</td>\n",
       "    </tr>\n",
       "    <tr>\n",
       "      <th>8</th>\n",
       "      <td>6</td>\n",
       "      <td>Others</td>\n",
       "      <td>5.714427e+08</td>\n",
       "      <td>63</td>\n",
       "      <td>IND</td>\n",
       "    </tr>\n",
       "    <tr>\n",
       "      <th>9</th>\n",
       "      <td>2</td>\n",
       "      <td>Entertainment</td>\n",
       "      <td>2.298048e+08</td>\n",
       "      <td>25</td>\n",
       "      <td>IND</td>\n",
       "    </tr>\n",
       "    <tr>\n",
       "      <th>10</th>\n",
       "      <td>5</td>\n",
       "      <td>News, Search and Messaging</td>\n",
       "      <td>2.398125e+08</td>\n",
       "      <td>25</td>\n",
       "      <td>IND</td>\n",
       "    </tr>\n",
       "    <tr>\n",
       "      <th>11</th>\n",
       "      <td>7</td>\n",
       "      <td>Social, Finance, Analytics, Advertising</td>\n",
       "      <td>1.910362e+08</td>\n",
       "      <td>22</td>\n",
       "      <td>IND</td>\n",
       "    </tr>\n",
       "    <tr>\n",
       "      <th>12</th>\n",
       "      <td>4</td>\n",
       "      <td>Manufacturing</td>\n",
       "      <td>1.419050e+08</td>\n",
       "      <td>15</td>\n",
       "      <td>IND</td>\n",
       "    </tr>\n",
       "  </tbody>\n",
       "</table>\n",
       "</div>"
      ],
      "text/plain": [
       "    index                              main_sector  Total_amount  Total_count  \\\n",
       "0       6                                   Others  1.048803e+10         1193   \n",
       "1       7  Social, Finance, Analytics, Advertising  7.007453e+09          795   \n",
       "2       1               Cleantech / Semiconductors  6.500448e+09          724   \n",
       "3       5               News, Search and Messaging  5.487191e+09          607   \n",
       "4       6                                   Others  8.930487e+08          106   \n",
       "5       7  Social, Finance, Analytics, Advertising  6.969202e+08           81   \n",
       "6       5               News, Search and Messaging  6.140934e+08           69   \n",
       "7       1               Cleantech / Semiconductors  5.298865e+08           57   \n",
       "8       6                                   Others  5.714427e+08           63   \n",
       "9       2                            Entertainment  2.298048e+08           25   \n",
       "10      5               News, Search and Messaging  2.398125e+08           25   \n",
       "11      7  Social, Finance, Analytics, Advertising  1.910362e+08           22   \n",
       "12      4                            Manufacturing  1.419050e+08           15   \n",
       "\n",
       "   country  \n",
       "0      USA  \n",
       "1      USA  \n",
       "2      USA  \n",
       "3      USA  \n",
       "4      GBR  \n",
       "5      GBR  \n",
       "6      GBR  \n",
       "7      GBR  \n",
       "8      IND  \n",
       "9      IND  \n",
       "10     IND  \n",
       "11     IND  \n",
       "12     IND  "
      ]
     },
     "execution_count": 350,
     "metadata": {},
     "output_type": "execute_result"
    }
   ],
   "source": [
    "#Mearge the dataframes\n",
    "D4=pd.merge(pd.merge(D1_agg1,D2_agg1,how='outer'),D3_agg1,how='outer')\n",
    "D4"
   ]
  },
  {
   "cell_type": "code",
   "execution_count": 358,
   "metadata": {},
   "outputs": [
    {
     "data": {
      "image/png": "[encoded data removed]",
      "text/plain": [
       "<Figure size 960x480 with 1 Axes>"
      ]
     },
     "metadata": {},
     "output_type": "display_data"
    }
   ],
   "source": [
    "#Plot the dataframe data on barchart\n",
    "plt.figure(figsize=[8.0,4.0],dpi=120,frameon=True)\n",
    "sns.barplot(x='country', y='Total_count', hue='main_sector',data=D4)\n",
    "plt.ylabel(\"TOtal investment count\")\n",
    "plt.xlabel(\"Top 3 Countries\")\n",
    "plt.title(\"Number of Investments\") \n",
    "plt.show()"
   ]
  },
  {
   "cell_type": "code",
   "execution_count": null,
   "metadata": {},
   "outputs": [],
   "source": []
  },
  {
   "cell_type": "code",
   "execution_count": null,
   "metadata": {},
   "outputs": [],
   "source": []
  },
  {
   "cell_type": "code",
   "execution_count": null,
   "metadata": {},
   "outputs": [],
   "source": []
  },
  {
   "cell_type": "code",
   "execution_count": null,
   "metadata": {},
   "outputs": [],
   "source": []
  },
  {
   "cell_type": "code",
   "execution_count": null,
   "metadata": {},
   "outputs": [],
   "source": []
  }
 ],
 "metadata": {
  "kernelspec": {
   "display_name": "Python 3",
   "language": "python",
   "name": "python3"
  },
  "language_info": {
   "codemirror_mode": {
    "name": "ipython",
    "version": 3
   },
   "file_extension": ".py",
   "mimetype": "text/x-python",
   "name": "python",
   "nbconvert_exporter": "python",
   "pygments_lexer": "ipython3",
   "version": "3.8.10"
  }
 },
 "nbformat": 4,
 "nbformat_minor": 2
}
